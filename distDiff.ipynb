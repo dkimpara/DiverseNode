{
 "cells": [
  {
   "cell_type": "markdown",
   "metadata": {},
   "source": [
    "### todo: plot surface and points separately?\n",
    "- regression?"
   ]
  },
  {
   "cell_type": "code",
   "execution_count": 10,
   "metadata": {
    "pycharm": {
     "name": "#%%\n"
    }
   },
   "outputs": [],
   "source": [
    "%matplotlib widget\n",
    "import pandas as pd\n",
    "import networkx as nx\n",
    "import numpy as np\n",
    "import matplotlib.pyplot as plt\n",
    "import analysis as analysis\n",
    "from mpl_toolkits.mplot3d import Axes3D\n",
    "from matplotlib import cm\n",
    "\n",
    "import statsmodels.formula.api as smf\n",
    "from statsmodels.stats.anova import anova_lm"
   ]
  },
  {
   "cell_type": "code",
   "execution_count": 2,
   "metadata": {},
   "outputs": [
    {
     "name": "stdout",
     "output_type": "stream",
     "text": [
      "(21600, 19) (21600, 19)\n"
     ]
    },
    {
     "data": {
      "text/plain": [
       "Index(['degrees', 'clusterCoeff', 'reciprocity', 'center_1', 'center_2',\n",
       "       'mean_centers', 'overall_mean_culture', 'giantComponent', 'diam', 'SPL',\n",
       "       'CD', 'c1_init', 'c2_init', 'c_avg_init', 'std_d', 'std_rs', 'std_rw',\n",
       "       'tags', 'comps'],\n",
       "      dtype='object')"
      ]
     },
     "execution_count": 2,
     "metadata": {},
     "output_type": "execute_result"
    }
   ],
   "source": [
    "df = analysis.read_pickle('df_group_size10-40')\n",
    "#df = analysis.read_pickle('df_base')\n",
    "df_full = analysis.data_cleanup(df)\n",
    "print(df.shape, df_full.shape)\n",
    "df_full.columns"
   ]
  },
  {
   "cell_type": "markdown",
   "metadata": {},
   "source": [
    "## Distance from original cultures plotting"
   ]
  },
  {
   "cell_type": "code",
   "execution_count": 7,
   "metadata": {},
   "outputs": [],
   "source": [
    "def asnp(series):\n",
    "    return np.asarray(series.values, dtype = \"float\")\n",
    "def ddgroupby(df, labels):\n",
    "    sdf = pd.DataFrame(df.groupby(labels)['distdiff'].mean())\n",
    "    sdf.reset_index(inplace=True)\n",
    "    return sdf\n",
    "def plt_surf(label, df, sdf):\n",
    "    plt.close('all')\n",
    "    fig = plt.figure()\n",
    "    fig.set_size_inches(9, 9)\n",
    "    ax = fig.gca(projection='3d')\n",
    "\n",
    "    #ax.scatter(asnp(df[label1[0]]), asnp(df[label1[1]]), asnp(df['distdiff']), marker='.')\n",
    "    ax.plot_trisurf(asnp(sdf[label[0]]), asnp(sdf[label[1]]), asnp(sdf['distdiff']),\n",
    "                    cmap=cm.coolwarm, linewidth=0, edgecolor='none')\n",
    "    ax.set_xlabel(label[0])\n",
    "    plt.draw()"
   ]
  },
  {
   "cell_type": "code",
   "execution_count": 8,
   "metadata": {},
   "outputs": [
    {
     "data": {
      "application/vnd.jupyter.widget-view+json": {
       "model_id": "f3b9f80240884d32bbae6a98c96472e8",
       "version_major": 2,
       "version_minor": 0
      },
      "text/plain": [
       "Canvas(toolbar=Toolbar(toolitems=[('Home', 'Reset original view', 'home', 'home'), ('Back', 'Back to previous …"
      ]
     },
     "metadata": {},
     "output_type": "display_data"
    }
   ],
   "source": [
    "distdiff = analysis.culture_avg_wrapper(df)\n",
    "df['distdiff'] = distdiff\n",
    "\n",
    "label1 = ['std_rw', 'std_rs']\n",
    "label2 = ['std_d', 'std_rw']\n",
    "label3 = ['std_d', 'std_rs']\n",
    "\n",
    "sdf = ddgroupby(df, label1)\n",
    "plt_surf(label1, df, sdf)"
   ]
  },
  {
   "cell_type": "code",
   "execution_count": 12,
   "metadata": {},
   "outputs": [
    {
     "data": {
      "text/plain": [
       "Index(['std_rw', 'std_rs', 'distdiff'], dtype='object')"
      ]
     },
     "execution_count": 12,
     "metadata": {},
     "output_type": "execute_result"
    }
   ],
   "source": [
    "sdf.columns"
   ]
  },
  {
   "cell_type": "code",
   "execution_count": 16,
   "metadata": {},
   "outputs": [
    {
     "name": "stdout",
     "output_type": "stream",
     "text": [
      "                            OLS Regression Results                            \n",
      "==============================================================================\n",
      "Dep. Variable:               distdiff   R-squared:                       0.911\n",
      "Model:                            OLS   Adj. R-squared:                  0.902\n",
      "Method:                 Least Squares   F-statistic:                     108.8\n",
      "Date:                Sat, 18 Jul 2020   Prob (F-statistic):           7.26e-17\n",
      "Time:                        17:15:07   Log-Likelihood:                 81.199\n",
      "No. Observations:                  36   AIC:                            -154.4\n",
      "Df Residuals:                      32   BIC:                            -148.1\n",
      "Df Model:                           3                                         \n",
      "Covariance Type:            nonrobust                                         \n",
      "=================================================================================\n",
      "                    coef    std err          t      P>|t|      [0.025      0.975]\n",
      "---------------------------------------------------------------------------------\n",
      "Intercept         0.2247      0.014     15.945      0.000       0.196       0.253\n",
      "std_rs           -0.2169      0.047     -4.661      0.000      -0.312      -0.122\n",
      "std_rw            0.4446      0.047      9.553      0.000       0.350       0.539\n",
      "std_rs:std_rw    -0.4560      0.154     -2.966      0.006      -0.769      -0.143\n",
      "==============================================================================\n",
      "Omnibus:                        0.154   Durbin-Watson:                   1.547\n",
      "Prob(Omnibus):                  0.926   Jarque-Bera (JB):                0.250\n",
      "Skew:                           0.140   Prob(JB):                        0.883\n",
      "Kurtosis:                       2.703   Cond. No.                         38.8\n",
      "==============================================================================\n",
      "\n",
      "Warnings:\n",
      "[1] Standard Errors assume that the covariance matrix of the errors is correctly specified.\n",
      "                 df    sum_sq   mean_sq           F        PR(>F)\n",
      "std_rs          1.0  0.114979  0.114979  158.876988  5.937771e-14\n",
      "std_rw          1.0  0.114760  0.114760  158.575239  6.090901e-14\n",
      "std_rs:std_rw   1.0  0.006368  0.006368    8.798707  5.660814e-03\n",
      "Residual       32.0  0.023158  0.000724         NaN           NaN\n"
     ]
    }
   ],
   "source": [
    "res = smf.ols(formula='distdiff ~ (std_rs + std_rw) ** 2', data=sdf).fit()\n",
    "print(res.summary())\n",
    "print(anova_lm(res))"
   ]
  },
  {
   "cell_type": "code",
   "execution_count": 6,
   "metadata": {},
   "outputs": [
    {
     "data": {
      "text/plain": [
       "0.13171974476628992"
      ]
     },
     "execution_count": 6,
     "metadata": {},
     "output_type": "execute_result"
    }
   ],
   "source": [
    "sdf['distdiff'].min()"
   ]
  },
  {
   "cell_type": "code",
   "execution_count": null,
   "metadata": {},
   "outputs": [],
   "source": []
  }
 ],
 "metadata": {
  "kernelspec": {
   "display_name": "Python 3",
   "language": "python",
   "name": "python3"
  },
  "language_info": {
   "codemirror_mode": {
    "name": "ipython",
    "version": 3
   },
   "file_extension": ".py",
   "mimetype": "text/x-python",
   "name": "python",
   "nbconvert_exporter": "python",
   "pygments_lexer": "ipython3",
   "version": "3.8.2"
  }
 },
 "nbformat": 4,
 "nbformat_minor": 4
}
