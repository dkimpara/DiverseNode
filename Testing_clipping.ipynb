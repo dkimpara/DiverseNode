{
 "cells": [
  {
   "cell_type": "code",
   "execution_count": null,
   "metadata": {},
   "outputs": [],
   "source": []
  },
  {
   "cell_type": "code",
   "execution_count": 1,
   "metadata": {},
   "outputs": [],
   "source": [
    "import networkx as nx\n",
    "import generator as gen\n",
    "import simulate as sim\n",
    "import conComp as cc\n",
    "import random\n",
    "import numpy as np\n",
    "import mainMethods as mn\n",
    "import matplotlib.pyplot as plt"
   ]
  },
  {
   "cell_type": "code",
   "execution_count": 2,
   "metadata": {},
   "outputs": [],
   "source": [
    "def plot_d(g,cmat,rounds=500):\n",
    "    ccomp = cc.Components(g)\n",
    "    dist = []\n",
    "    weights = []\n",
    "    for i in range(rounds):\n",
    "        g, cmat, ccomp, d, w = sim.sim_one_iter(g,cmat,ccomp,False)\n",
    "        \n",
    "        dist.append(d)\n",
    "        weights.append(w)\n",
    "    \n",
    "    return g, cmat, ccomp, dist, weights"
   ]
  },
  {
   "cell_type": "markdown",
   "metadata": {},
   "source": [
    "Still getting zero division errors in edge update method...\n",
    "- means edge weights asymptotically approaching 1\n",
    "possible reasons:\n",
    "- trucating change values at 0 and 1\n",
    "- natural homophily of the process (SBM checked) \n",
    "debug:\n",
    "- try plotting edge weights\n",
    "- try starting with e-r model"
   ]
  },
  {
   "cell_type": "code",
   "execution_count": 3,
   "metadata": {},
   "outputs": [],
   "source": [
    "def generate():\n",
    "    g_init = gen.graph_gen(2,50,0.2,0.02)\n",
    "    dev = [0.1] + [0.5] + [0.5] * 2\n",
    "    std_devs = [dev, dev]\n",
    "    changeVec = [[0.5, 0.5, 0.5], [0.5, 0.5, 0.5]]\n",
    "    cmat = gen.culture_init(g_init, std_devs, changeVec)\n",
    "    #g, culturemat = sim.simulate_iterstop(g_init,cmat)\n",
    "    #print(nx.average_shortest_path_length(g))\n",
    "    w_init = [w for u,v,w in g_init.edges.data('weight')]\n",
    "    plt.scatter(list(range(len(w_init))),w_init)\n",
    "    \n",
    "    return g_in,cmat"
   ]
  },
  {
   "cell_type": "code",
   "execution_count": 4,
   "metadata": {},
   "outputs": [
    {
     "ename": "NameError",
     "evalue": "name 'g' is not defined",
     "output_type": "error",
     "traceback": [
      "\u001b[0;31m---------------------------------------------------------------------------\u001b[0m",
      "\u001b[0;31mNameError\u001b[0m                                 Traceback (most recent call last)",
      "\u001b[0;32m<ipython-input-4-70997113acd7>\u001b[0m in \u001b[0;36m<module>\u001b[0;34m\u001b[0m\n\u001b[0;32m----> 1\u001b[0;31m \u001b[0mg_init\u001b[0m\u001b[0;34m,\u001b[0m\u001b[0mcmat\u001b[0m \u001b[0;34m=\u001b[0m \u001b[0mgenerate\u001b[0m\u001b[0;34m(\u001b[0m\u001b[0;34m)\u001b[0m\u001b[0;34m\u001b[0m\u001b[0;34m\u001b[0m\u001b[0m\n\u001b[0m\u001b[1;32m      2\u001b[0m \u001b[0mg\u001b[0m\u001b[0;34m,\u001b[0m \u001b[0mcmat\u001b[0m\u001b[0;34m,\u001b[0m \u001b[0mccomp\u001b[0m\u001b[0;34m,\u001b[0m \u001b[0mdist\u001b[0m\u001b[0;34m,\u001b[0m \u001b[0mweights\u001b[0m \u001b[0;34m=\u001b[0m \u001b[0mplot_d\u001b[0m\u001b[0;34m(\u001b[0m\u001b[0mg_init\u001b[0m\u001b[0;34m,\u001b[0m\u001b[0mcmat\u001b[0m\u001b[0;34m,\u001b[0m\u001b[0mrounds\u001b[0m\u001b[0;34m=\u001b[0m\u001b[0;36m500\u001b[0m\u001b[0;34m)\u001b[0m\u001b[0;34m\u001b[0m\u001b[0;34m\u001b[0m\u001b[0m\n\u001b[1;32m      3\u001b[0m \u001b[0mprint\u001b[0m\u001b[0;34m(\u001b[0m\u001b[0mmn\u001b[0m\u001b[0;34m.\u001b[0m\u001b[0mculture_distance\u001b[0m\u001b[0;34m(\u001b[0m\u001b[0mg\u001b[0m\u001b[0;34m,\u001b[0m\u001b[0mcmat\u001b[0m\u001b[0;34m,\u001b[0m\u001b[0;32mFalse\u001b[0m\u001b[0;34m,\u001b[0m\u001b[0;36m2\u001b[0m\u001b[0;34m)\u001b[0m\u001b[0;34m)\u001b[0m\u001b[0;34m\u001b[0m\u001b[0;34m\u001b[0m\u001b[0m\n",
      "\u001b[0;32m<ipython-input-3-549ebe33244e>\u001b[0m in \u001b[0;36mgenerate\u001b[0;34m()\u001b[0m\n\u001b[1;32m     10\u001b[0m     \u001b[0mplt\u001b[0m\u001b[0;34m.\u001b[0m\u001b[0mscatter\u001b[0m\u001b[0;34m(\u001b[0m\u001b[0mlist\u001b[0m\u001b[0;34m(\u001b[0m\u001b[0mrange\u001b[0m\u001b[0;34m(\u001b[0m\u001b[0mlen\u001b[0m\u001b[0;34m(\u001b[0m\u001b[0mw_init\u001b[0m\u001b[0;34m)\u001b[0m\u001b[0;34m)\u001b[0m\u001b[0;34m)\u001b[0m\u001b[0;34m,\u001b[0m\u001b[0mw_init\u001b[0m\u001b[0;34m)\u001b[0m\u001b[0;34m\u001b[0m\u001b[0;34m\u001b[0m\u001b[0m\n\u001b[1;32m     11\u001b[0m \u001b[0;34m\u001b[0m\u001b[0m\n\u001b[0;32m---> 12\u001b[0;31m     \u001b[0;32mreturn\u001b[0m \u001b[0mg\u001b[0m\u001b[0;34m,\u001b[0m\u001b[0mcmat\u001b[0m\u001b[0;34m\u001b[0m\u001b[0;34m\u001b[0m\u001b[0m\n\u001b[0m",
      "\u001b[0;31mNameError\u001b[0m: name 'g' is not defined"
     ]
    },
    {
     "data": {
      "image/png": "[encoded data removed]",
      "text/plain": [
       "<Figure size 432x288 with 1 Axes>"
      ]
     },
     "metadata": {
      "needs_background": "light"
     },
     "output_type": "display_data"
    }
   ],
   "source": [
    "g_init,cmat = generate()\n",
    "g, cmat, ccomp, dist, weights = plot_d(g_init,cmat,rounds=500)\n",
    "print(mn.culture_distance(g,cmat,False,2))"
   ]
  },
  {
   "cell_type": "code",
   "execution_count": null,
   "metadata": {},
   "outputs": [],
   "source": [
    "#plot graph getting more assortative as iters go on. no show of increased edge count between groups. \n",
    "#even with high culture tolerance nodes... \n",
    "#check high culture tolerance nodes and acceptance function. check ccomp functionality\n",
    "#cultural tolerance not bounded from above???\n",
    "#edge weight change also not bounded from above???\n",
    "#with proportional edge decision, getting assortativity\n",
    "#how to deal with disconnected graphs? if one node, then take data for connected part\n",
    "colors = ['blue' if b==0 else 'red' for v,b in g.nodes(data='block')]\n",
    "    \n",
    "nx.draw(g, node_color=colors)"
   ]
  }
 ],
 "metadata": {
  "kernelspec": {
   "display_name": "Python 3",
   "language": "python",
   "name": "python3"
  },
  "language_info": {
   "codemirror_mode": {
    "name": "ipython",
    "version": 3
   },
   "file_extension": ".py",
   "mimetype": "text/x-python",
   "name": "python",
   "nbconvert_exporter": "python",
   "pygments_lexer": "ipython3",
   "version": "3.8.2"
  }
 },
 "nbformat": 4,
 "nbformat_minor": 4
}
