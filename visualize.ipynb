{
 "cells": [
  {
   "cell_type": "markdown",
   "metadata": {
    "pycharm": {
     "name": "#%% md\n"
    }
   },
   "source": [
    "Visualizer for simulated dynamic adaptive networks\n",
    "\n",
    "Access: datafiles with adj matrices+culture vecs"
   ]
  },
  {
   "cell_type": "code",
   "execution_count": 1,
   "metadata": {
    "pycharm": {
     "name": "#%%\n"
    }
   },
   "outputs": [],
   "source": [
    "%matplotlib widget\n",
    "import pandas as pd\n",
    "import networkx as nx\n",
    "import numpy as np\n",
    "import matplotlib.pyplot as plt\n",
    "import analysis as analysis\n",
    "from analysis import read_pickle\n",
    "from mpl_toolkits.mplot3d import Axes3D\n",
    "from matplotlib import cm"
   ]
  },
  {
   "cell_type": "code",
   "execution_count": 2,
   "metadata": {},
   "outputs": [
    {
     "name": "stdout",
     "output_type": "stream",
     "text": [
      "(21600, 19) (21600, 19)\n"
     ]
    },
    {
     "data": {
      "text/plain": [
       "Index(['degrees', 'clusterCoeff', 'reciprocity', 'center_1', 'center_2',\n",
       "       'mean_centers', 'overall_mean_culture', 'giantComponent', 'diam', 'SPL',\n",
       "       'CD', 'c1_init', 'c2_init', 'c_avg_init', 'std_d', 'std_rs', 'std_rw',\n",
       "       'tags', 'comps'],\n",
       "      dtype='object')"
      ]
     },
     "execution_count": 2,
     "metadata": {},
     "output_type": "execute_result"
    }
   ],
   "source": [
    "filename = 'base'\n",
    "#df = analysis.read_pickle('df_sayama_change_all')\n",
    "#df = read_pickle('df_group_size10-40_changeall')\n",
    "df = analysis.read_pickle('df_' + filename)\n",
    "df_full = analysis.data_cleanup(df)\n",
    "print(df.shape, df_full.shape)\n",
    "df_full.columns"
   ]
  },
  {
   "cell_type": "markdown",
   "metadata": {},
   "source": [
    "## Number of experiments vs Size of Largest Component"
   ]
  },
  {
   "cell_type": "code",
   "execution_count": 3,
   "metadata": {},
   "outputs": [],
   "source": [
    "x = []\n",
    "y = []\n",
    "for i in np.linspace(0, 1.0, 21):\n",
    "    cum = 1 - i\n",
    "    con = df_full['giantComponent'] >= cum\n",
    "    x.append(cum)\n",
    "    y.append(df_full.loc[con].shape[0])\n",
    "for i in np.linspace(0,0.15,15):\n",
    "    cum = 1 - i\n",
    "    con = df_full['giantComponent'] >= cum\n",
    "    x.append(cum)\n",
    "    y.append(df_full.loc[con].shape[0])"
   ]
  },
  {
   "cell_type": "code",
   "execution_count": 4,
   "metadata": {},
   "outputs": [
    {
     "data": {
      "application/vnd.jupyter.widget-view+json": {
       "model_id": "ee64479ec48544418a4e7326047fa10e",
       "version_major": 2,
       "version_minor": 0
      },
      "text/plain": [
       "Canvas(toolbar=Toolbar(toolitems=[('Home', 'Reset original view', 'home', 'home'), ('Back', 'Back to previous …"
      ]
     },
     "metadata": {},
     "output_type": "display_data"
    }
   ],
   "source": [
    "plt.close('all')\n",
    "plt.scatter(x,y)\n",
    "plt.show()"
   ]
  },
  {
   "cell_type": "markdown",
   "metadata": {},
   "source": [
    "Start with 0.8 as minimum gc size. Filter df:"
   ]
  },
  {
   "cell_type": "code",
   "execution_count": 5,
   "metadata": {},
   "outputs": [
    {
     "name": "stdout",
     "output_type": "stream",
     "text": [
      "(21600, 19) (21600, 19)\n"
     ]
    }
   ],
   "source": [
    "df = df_full.loc[df['giantComponent'] >= 0.8]\n",
    "print(df_full.shape, df.shape)"
   ]
  },
  {
   "cell_type": "markdown",
   "metadata": {},
   "source": [
    "## Plot base sayama graphs and do linreg"
   ]
  },
  {
   "cell_type": "code",
   "execution_count": 6,
   "metadata": {},
   "outputs": [],
   "source": [
    "#mplot3d doesnt handle sympy floats\n",
    "stdd = np.asarray(df['std_d'].values, dtype = \"float\")\n",
    "stdrs = np.asarray(df['std_rs'].values, dtype = \"float\")\n",
    "stdrw = np.asarray(df['std_rw'].values, dtype = \"float\")\n",
    "spl = np.asarray(df['SPL'].values, dtype = \"float\")\n",
    "cd = np.asarray(df['CD'].values, dtype = \"float\")\n"
   ]
  },
  {
   "cell_type": "markdown",
   "metadata": {},
   "source": [
    "analysis.plotfig(stdd, cd, spl, 'd', 'base_d')\n",
    "analysis.plotfig(stdrw, cd, spl, '$r_w$', 'base_rw')\n",
    "analysis.plotfig(stdrs, cd, spl, '$r_s$', 'base_rs')"
   ]
  },
  {
   "cell_type": "code",
   "execution_count": 7,
   "metadata": {},
   "outputs": [
    {
     "data": {
      "text/plain": [
       "1.3726530612244898"
      ]
     },
     "execution_count": 7,
     "metadata": {},
     "output_type": "execute_result"
    }
   ],
   "source": [
    "df_full['SPL'].min()"
   ]
  },
  {
   "cell_type": "code",
   "execution_count": 13,
   "metadata": {},
   "outputs": [],
   "source": [
    "#todo plot in right order for overlap\n",
    "#analysis.plotfig(stdd, cd, spl, 's.d. of $d$', 'base_d')\n",
    "#analysis.plotfig(stdrs, cd, spl, 's.d. of $r_s$', 'base_rs')\n",
    "#analysis.plotfig(stdrw, cd, spl, 's.d. of $r_w$', 'base_rw')"
   ]
  },
  {
   "cell_type": "markdown",
   "metadata": {},
   "source": [
    "## Distance from original cultures plotting"
   ]
  },
  {
   "cell_type": "code",
   "execution_count": 8,
   "metadata": {},
   "outputs": [],
   "source": [
    "def asnp(series):\n",
    "    return np.asarray(series.values, dtype = \"float\")"
   ]
  },
  {
   "cell_type": "markdown",
   "metadata": {},
   "source": [
    "distdiff = analysis.culture_avg_wrapper(df)\n",
    "df['distdiff'] = distdiff\n",
    "surface = df.groupby(['std_d', 'std_rs'])['distdiff'].mean()"
   ]
  },
  {
   "cell_type": "code",
   "execution_count": 9,
   "metadata": {},
   "outputs": [
    {
     "ename": "NameError",
     "evalue": "name 'surface' is not defined",
     "output_type": "error",
     "traceback": [
      "\u001b[0;31m---------------------------------------------------------------------------\u001b[0m",
      "\u001b[0;31mNameError\u001b[0m                                 Traceback (most recent call last)",
      "\u001b[0;32m<ipython-input-9-d577a240907a>\u001b[0m in \u001b[0;36m<module>\u001b[0;34m\u001b[0m\n\u001b[0;32m----> 1\u001b[0;31m \u001b[0msurfacedf\u001b[0m \u001b[0;34m=\u001b[0m \u001b[0mpd\u001b[0m\u001b[0;34m.\u001b[0m\u001b[0mDataFrame\u001b[0m\u001b[0;34m(\u001b[0m\u001b[0msurface\u001b[0m\u001b[0;34m)\u001b[0m\u001b[0;34m\u001b[0m\u001b[0;34m\u001b[0m\u001b[0m\n\u001b[0m",
      "\u001b[0;31mNameError\u001b[0m: name 'surface' is not defined"
     ]
    }
   ],
   "source": [
    "surfacedf = pd.DataFrame(surface)"
   ]
  },
  {
   "cell_type": "code",
   "execution_count": null,
   "metadata": {},
   "outputs": [],
   "source": [
    "surfacedf.reset_index(inplace=True)\n",
    "sdf=surfacedf"
   ]
  },
  {
   "cell_type": "code",
   "execution_count": null,
   "metadata": {},
   "outputs": [],
   "source": []
  },
  {
   "cell_type": "markdown",
   "metadata": {},
   "source": [
    "plt.close('all')\n",
    "fig = plt.figure()\n",
    "fig.set_size_inches(15, 15)\n",
    "ax = fig.gca(projection='3d')\n",
    "\n",
    "ax.scatter(stdd, stdrs, distdiff, marker='.')\n",
    "ax.plot_trisurf(asnp(sdf['std_d']), asnp(sdf['std_rs']), asnp(sdf['distdiff']),\n",
    "                cmap=cm.coolwarm, linewidth=0, edgecolor='none')\n",
    "plt.draw()"
   ]
  }
 ],
 "metadata": {
  "kernelspec": {
   "display_name": "Python 3",
   "language": "python",
   "name": "python3"
  },
  "language_info": {
   "codemirror_mode": {
    "name": "ipython",
    "version": 3
   },
   "file_extension": ".py",
   "mimetype": "text/x-python",
   "name": "python",
   "nbconvert_exporter": "python",
   "pygments_lexer": "ipython3",
   "version": "3.8.2"
  }
 },
 "nbformat": 4,
 "nbformat_minor": 4
}
