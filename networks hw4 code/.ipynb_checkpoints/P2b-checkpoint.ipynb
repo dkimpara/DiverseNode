{
 "cells": [
  {
   "cell_type": "code",
   "execution_count": 1,
   "metadata": {},
   "outputs": [],
   "source": [
    "import networkx as nx\n",
    "import numpy as np\n",
    "import matplotlib.pyplot as plt\n",
    "import random\n",
    "import numpy as np\n",
    "from mpl_toolkits import mplot3d"
   ]
  },
  {
   "cell_type": "code",
   "execution_count": 2,
   "metadata": {},
   "outputs": [],
   "source": [
    "n = 50\n",
    "def g_gen(q):\n",
    "    global n\n",
    "    g = nx.grid_2d_graph(n,n)\n",
    "    gnp = nx.gnp_random_graph(n**2,q)\n",
    "    for i,j in gnp.edges:\n",
    "        g.add_edge(i,j)\n",
    "    return g"
   ]
  },
  {
   "cell_type": "code",
   "execution_count": 3,
   "metadata": {},
   "outputs": [],
   "source": [
    "def infect(p, g):\n",
    "    global n\n",
    "    infectious = [random.choice(list(g.nodes()))]\n",
    "    time = 1\n",
    "    infected = []\n",
    "    while infectious:\n",
    "        infected += infectious #add infectious nodes to infected list\n",
    "        time += 1\n",
    "        infectious_next = []\n",
    "        for v in infectious:\n",
    "            for u in g.neighbors(v):\n",
    "                if random.random() <= p: #infect with prob p\n",
    "                    infectious_next.append(u)\n",
    "        infectious = [v for v in set(infectious_next) if v not in infected]\n",
    "    return time, len(infected)/n"
   ]
  },
  {
   "cell_type": "code",
   "execution_count": 4,
   "metadata": {},
   "outputs": [],
   "source": [
    "def get_avg(p,m,q):\n",
    "    times = []\n",
    "    infected = []\n",
    "    for i in range(m):\n",
    "        t, i = infect(p, g_gen(q))\n",
    "        times.append(t)\n",
    "        infected.append(i)\n",
    "    return sum(times)/m, sum(infected)/m"
   ]
  },
  {
   "cell_type": "code",
   "execution_count": null,
   "metadata": {},
   "outputs": [],
   "source": [
    "times = []\n",
    "infected = []\n",
    "qplot = []\n",
    "pplot = []\n",
    "\n",
    "m = 15\n",
    "qlist= list(np.linspace(0,1,20))\n",
    "\n",
    "ptests = list(np.linspace(0,0.5,100)) \n",
    "ptests += list(np.linspace(0.5,0.8,250)) \n",
    "ptests += list(np.linspace(0.8,1,50))\n",
    "\n",
    "for q in qlist:\n",
    "    for p in ptests:\n",
    "        qplot.append(q)\n",
    "        pplot.append(p)\n",
    "        t, i = get_avg(p,m,q)\n",
    "        times.append(t)\n",
    "        infected.append(i)"
   ]
  },
  {
   "cell_type": "code",
   "execution_count": null,
   "metadata": {},
   "outputs": [],
   "source": [
    "d = {'ps': pPlot, 'q': qplot, 'size': infected, 'times': times}\n",
    "df = pd.DataFrame(data=d)\n",
    "df.to_csv(index=False)"
   ]
  },
  {
   "cell_type": "code",
   "execution_count": null,
   "metadata": {},
   "outputs": [],
   "source": [
    "ax = plt.axes(projection='3d')\n",
    "ax.plot_trisurf(qplot,ptests,infected, cmap='viridis', edgecolor='none')\n",
    "plt.ylabel(\"Transmission probability, p\")\n",
    "plt.xlabel(\"Long range probability, q\")"
   ]
  },
  {
   "cell_type": "code",
   "execution_count": null,
   "metadata": {},
   "outputs": [],
   "source": [
    "ax = plt.axes(projection='3d')\n",
    "ax.plot_trisurf(qplot,ptests,times, cmap='viridis', edgecolor='none')\n",
    "plt.ylabel(\"Transmission probability, p\")\n",
    "plt.xlabel(\"Long range probability, q\")"
   ]
  },
  {
   "cell_type": "code",
   "execution_count": null,
   "metadata": {},
   "outputs": [],
   "source": [
    "plt.scatter(ptests,infected)"
   ]
  },
  {
   "cell_type": "code",
   "execution_count": null,
   "metadata": {},
   "outputs": [],
   "source": []
  }
 ],
 "metadata": {
  "kernelspec": {
   "display_name": "Python 3",
   "language": "python",
   "name": "python3"
  },
  "language_info": {
   "codemirror_mode": {
    "name": "ipython",
    "version": 3
   },
   "file_extension": ".py",
   "mimetype": "text/x-python",
   "name": "python",
   "nbconvert_exporter": "python",
   "pygments_lexer": "ipython3",
   "version": "3.6.8"
  }
 },
 "nbformat": 4,
 "nbformat_minor": 2
}
