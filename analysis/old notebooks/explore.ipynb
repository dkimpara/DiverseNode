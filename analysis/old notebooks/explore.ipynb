{
 "cells": [
  {
   "cell_type": "markdown",
   "metadata": {},
   "source": [
    "## todo: troubleshoot SPL < 1\n",
    "- plot diam/cc/deg dist wrt to std- params"
   ]
  },
  {
   "cell_type": "code",
   "execution_count": 1,
   "metadata": {
    "pycharm": {
     "name": "#%%\n"
    }
   },
   "outputs": [],
   "source": [
    "%matplotlib widget\n",
    "import networkx as nx\n",
    "import numpy as np\n",
    "import matplotlib.pyplot as plt\n",
    "import analysis as analysis\n",
    "from analysis import read_pickle\n",
    "from mpl_toolkits.mplot3d import Axes3D\n",
    "from matplotlib import cm\n",
    "import pandas as pd\n",
    "import reprocess"
   ]
  },
  {
   "cell_type": "code",
   "execution_count": 2,
   "metadata": {},
   "outputs": [],
   "source": [
    "dfname = 'df_sayama_change_all' #'df_base'\n",
    "#df = read_pickle('df_group_size10-40')\n",
    "df = read_pickle(dfname)\n",
    "df = analysis.data_cleanup(df)"
   ]
  },
  {
   "cell_type": "code",
   "execution_count": 3,
   "metadata": {},
   "outputs": [],
   "source": [
    "data = read_pickle('base/[0.1, 0.0, 0.0, 0.0]')"
   ]
  },
  {
   "cell_type": "code",
   "execution_count": 4,
   "metadata": {},
   "outputs": [],
   "source": [
    "sf = reprocess.data_dict_processing(df, data)"
   ]
  },
  {
   "cell_type": "code",
   "execution_count": 5,
   "metadata": {},
   "outputs": [
    {
     "data": {
      "text/plain": [
       "0     1001.974694\n",
       "1     1001.951837\n",
       "2     1002.040000\n",
       "3     1001.937143\n",
       "4     1001.932245\n",
       "         ...     \n",
       "95    1001.973878\n",
       "96    1001.968163\n",
       "97    1001.932245\n",
       "98    1001.946122\n",
       "99    1002.017959\n",
       "Name: SPL, Length: 100, dtype: float64"
      ]
     },
     "execution_count": 5,
     "metadata": {},
     "output_type": "execute_result"
    }
   ],
   "source": [
    "sf.loc[(df['std_d'] == 0.0) &\n",
    "       (df['std_rs'] == 0.0) &\n",
    "       (df['std_rw'] == 0.0), 'SPL']"
   ]
  },
  {
   "cell_type": "code",
   "execution_count": 6,
   "metadata": {},
   "outputs": [
    {
     "ename": "NameError",
     "evalue": "name 'ddict' is not defined",
     "output_type": "error",
     "traceback": [
      "\u001b[0;31m---------------------------------------------------------------------------\u001b[0m",
      "\u001b[0;31mNameError\u001b[0m                                 Traceback (most recent call last)",
      "\u001b[0;32m<ipython-input-6-53dfb173253a>\u001b[0m in \u001b[0;36m<module>\u001b[0;34m\u001b[0m\n\u001b[0;32m----> 1\u001b[0;31m \u001b[0mg\u001b[0m \u001b[0;34m=\u001b[0m \u001b[0mddict\u001b[0m\u001b[0;34m[\u001b[0m\u001b[0;34m'graphs'\u001b[0m\u001b[0;34m]\u001b[0m\u001b[0;34m[\u001b[0m\u001b[0;36m86\u001b[0m\u001b[0;34m]\u001b[0m\u001b[0;34m\u001b[0m\u001b[0;34m\u001b[0m\u001b[0m\n\u001b[0m",
      "\u001b[0;31mNameError\u001b[0m: name 'ddict' is not defined"
     ]
    }
   ],
   "source": [
    "g = ddict['graphs'][86]"
   ]
  },
  {
   "cell_type": "code",
   "execution_count": null,
   "metadata": {},
   "outputs": [],
   "source": [
    "g_undir = nx.DiGraph.to_undirected(g)\n",
    "giant = max(nx.connected_components(g_undir), key=len)\n",
    "nx.average_shortest_path_length(g.subgraph(giant), None)"
   ]
  },
  {
   "cell_type": "code",
   "execution_count": null,
   "metadata": {},
   "outputs": [],
   "source": [
    "plt.close('all')\n",
    "q = g.subgraph(giant)\n",
    "for u, v, d in q.edges(data=True):\n",
    "        d['weight'] = 1.0\n"
   ]
  },
  {
   "cell_type": "code",
   "execution_count": null,
   "metadata": {},
   "outputs": [],
   "source": [
    "nx.average_shortest_path_length(q, 'weight')\n",
    "import copy\n",
    "qcopy = copy.deepcopy(q)\n",
    "nx.average_shortest_path_length(qcopy, 'weight')\n"
   ]
  },
  {
   "cell_type": "code",
   "execution_count": null,
   "metadata": {},
   "outputs": [],
   "source": [
    "nx.average_shortest_path_length(nx.DiGraph.to_undirected(g.subgraph(giant)), 'weight')"
   ]
  },
  {
   "cell_type": "code",
   "execution_count": null,
   "metadata": {},
   "outputs": [],
   "source": [
    "print(nx.average_shortest_path_length(qcopy))\n",
    "print(nx.average_shortest_path_length(qcopy, 'weight'))\n",
    "print(nx.average_shortest_path_length(qcopy, 'weight','bellman-ford'))\n",
    "print(nx.average_shortest_path_length(qcopy, 'weight', 'floyd-warshall-numpy'))\n",
    "print(nx.average_shortest_path_length(qcopy, 'weight', 'floyd-warshall'))"
   ]
  },
  {
   "cell_type": "code",
   "execution_count": null,
   "metadata": {},
   "outputs": [],
   "source": []
  },
  {
   "cell_type": "code",
   "execution_count": null,
   "metadata": {},
   "outputs": [],
   "source": [
    "nx.is_weakly_connected(qcopy)"
   ]
  },
  {
   "cell_type": "code",
   "execution_count": null,
   "metadata": {},
   "outputs": [],
   "source": [
    "\n",
    "plt.close('all')\n",
    "nx.draw(q)"
   ]
  },
  {
   "cell_type": "code",
   "execution_count": null,
   "metadata": {},
   "outputs": [],
   "source": [
    "con = df_full['giantComponent'] > 0.9\n",
    "df_full.loc[con].shape[0]"
   ]
  },
  {
   "cell_type": "code",
   "execution_count": null,
   "metadata": {},
   "outputs": [],
   "source": [
    "x = []\n",
    "y = []\n",
    "for i in np.linspace(0, 1.0, 21):\n",
    "    cum = 1 - i\n",
    "    con = df_full['giantComponent'] >= cum\n",
    "    x.append(cum)\n",
    "    y.append(df_full.loc[con].shape[0])\n",
    "for i in np.linspace(0,0.15,15):\n",
    "    cum = 1 - i\n",
    "    con = df_full['giantComponent'] >= cum\n",
    "    x.append(cum)\n",
    "    y.append(df_full.loc[con].shape[0])"
   ]
  },
  {
   "cell_type": "code",
   "execution_count": null,
   "metadata": {},
   "outputs": [],
   "source": [
    "plt.close('all')\n",
    "plt.scatter(x,y)\n",
    "plt.show()"
   ]
  },
  {
   "cell_type": "code",
   "execution_count": null,
   "metadata": {},
   "outputs": [],
   "source": [
    "#mplot3d doesnt handle sympy floats well\n",
    "stdd = np.asarray(df['std_d'].values, dtype = \"float\")\n",
    "stdrs = np.asarray(df['std_rs'].values, dtype = \"float\")\n",
    "stdrw = np.asarray(df['std_rw'].values, dtype = \"float\")\n",
    "spl = np.asarray(df['SPL'].values, dtype = \"float\")\n",
    "cd = np.asarray(df['CD'].values, dtype = \"float\")\n"
   ]
  },
  {
   "cell_type": "code",
   "execution_count": null,
   "metadata": {},
   "outputs": [],
   "source": [
    "s = str('[1,2,3]')"
   ]
  },
  {
   "cell_type": "code",
   "execution_count": null,
   "metadata": {},
   "outputs": [],
   "source": [
    "slice = df.loc[df['std_d' == 0.1 and 'std_rs']]"
   ]
  },
  {
   "cell_type": "code",
   "execution_count": null,
   "metadata": {},
   "outputs": [],
   "source": []
  }
 ],
 "metadata": {
  "kernelspec": {
   "display_name": "Python 3",
   "language": "python",
   "name": "python3"
  },
  "language_info": {
   "codemirror_mode": {
    "name": "ipython",
    "version": 3
   },
   "file_extension": ".py",
   "mimetype": "text/x-python",
   "name": "python",
   "nbconvert_exporter": "python",
   "pygments_lexer": "ipython3",
   "version": "3.8.2"
  }
 },
 "nbformat": 4,
 "nbformat_minor": 4
}
