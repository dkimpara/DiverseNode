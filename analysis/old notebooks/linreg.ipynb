{
 "cells": [
  {
   "cell_type": "code",
   "execution_count": 1,
   "metadata": {
    "pycharm": {
     "name": "#%%\n"
    }
   },
   "outputs": [],
   "source": [
    "%matplotlib inline\n",
    "import networkx as nx\n",
    "import numpy as np\n",
    "import matplotlib.pyplot as plt\n",
    "import analysis as analysis\n",
    "from mpl_toolkits.mplot3d import Axes3D\n",
    "import statsmodels.api as sm\n",
    "import statsmodels.formula.api as smf\n",
    "from statsmodels.stats.anova import anova_lm\n",
    "import linReg as linReg"
   ]
  },
  {
   "cell_type": "code",
   "execution_count": 2,
   "metadata": {},
   "outputs": [
    {
     "data": {
      "text/plain": [
       "(569, 18)"
      ]
     },
     "execution_count": 2,
     "metadata": {},
     "output_type": "execute_result"
    }
   ],
   "source": [
    "#df = analysis.read_pickle('df_sayama_change_all')\n",
    "df = analysis.read_pickle('df_base')\n",
    "con = df['giantComponent'] < 1.0\n",
    "df.loc[con].shape"
   ]
  },
  {
   "cell_type": "markdown",
   "metadata": {},
   "source": [
    "## setup dataframe\n",
    "- remove tuples from cols\n",
    "- reduce df to analysis rows\n"
   ]
  },
  {
   "cell_type": "code",
   "execution_count": 3,
   "metadata": {},
   "outputs": [
    {
     "name": "stdout",
     "output_type": "stream",
     "text": [
      "0 0\n"
     ]
    },
    {
     "data": {
      "text/plain": [
       "4"
      ]
     },
     "execution_count": 3,
     "metadata": {},
     "output_type": "execute_result"
    }
   ],
   "source": [
    "df_new = analysis.data_cleanup(df)\n",
    "#check for correctness\n",
    "mask = df_new['SPL'].apply(lambda x: isinstance(x, tuple))\n",
    "mask2 = df_new['diam'].apply(lambda x: isinstance(x, tuple))\n",
    "print(sum(mask), sum(mask2))"
   ]
  },
  {
   "cell_type": "code",
   "execution_count": 4,
   "metadata": {},
   "outputs": [
    {
     "name": "stdout",
     "output_type": "stream",
     "text": [
      "(21031, 19) 1\n"
     ]
    }
   ],
   "source": [
    "#now delete runs wiht multiple components\n",
    "df = df_new.loc[df['comps'] == 1]\n",
    "print(df.shape, df['comps'].max())"
   ]
  },
  {
   "cell_type": "code",
   "execution_count": 5,
   "metadata": {},
   "outputs": [
    {
     "data": {
      "text/plain": [
       "Index(['degrees', 'clusterCoeff', 'reciprocity', 'center_1', 'center_2',\n",
       "       'mean_centers', 'overall_mean_culture', 'giantComponent', 'diam', 'SPL',\n",
       "       'CD', 'c1_init', 'c2_init', 'c_avg_init', 'std_d', 'std_rs', 'std_rw',\n",
       "       'tags', 'comps'],\n",
       "      dtype='object')"
      ]
     },
     "execution_count": 5,
     "metadata": {},
     "output_type": "execute_result"
    }
   ],
   "source": [
    "df.columns"
   ]
  },
  {
   "cell_type": "code",
   "execution_count": 6,
   "metadata": {},
   "outputs": [],
   "source": [
    "linReg.fit_model(df, \"sayama-base\")"
   ]
  },
  {
   "cell_type": "markdown",
   "metadata": {},
   "source": [
    "## CD regression"
   ]
  },
  {
   "cell_type": "code",
   "execution_count": 7,
   "metadata": {},
   "outputs": [
    {
     "name": "stdout",
     "output_type": "stream",
     "text": [
      "<class 'statsmodels.iolib.summary.Summary'>\n",
      "                    df       sum_sq     mean_sq            F         PR(>F)\n",
      "std_d              1.0   752.778129  752.778129  3282.411539   0.000000e+00\n",
      "std_rs             1.0   976.525329  976.525329  4258.038172   0.000000e+00\n",
      "std_rw             1.0   333.500273  333.500273  1454.193611  1.006164e-307\n",
      "std_d:std_rs       1.0   495.219666  495.219666  2159.354377   0.000000e+00\n",
      "std_d:std_rw       1.0   141.646281  141.646281   617.634025  2.122770e-134\n",
      "std_rs:std_rw      1.0   152.785121  152.785121   666.203793  1.193131e-144\n",
      "Residual       21024.0  4821.579255    0.229337          NaN            NaN\n"
     ]
    }
   ],
   "source": [
    "#fit model\n",
    "res = smf.ols(formula='CD ~ (std_d + std_rs + std_rw) ** 2', data=df).fit()\n",
    "print(type(res.summary()))\n",
    "print(anova_lm(res))"
   ]
  },
  {
   "cell_type": "markdown",
   "metadata": {},
   "source": [
    "## SPL regression"
   ]
  },
  {
   "cell_type": "code",
   "execution_count": 8,
   "metadata": {},
   "outputs": [
    {
     "name": "stdout",
     "output_type": "stream",
     "text": [
      "                            OLS Regression Results                            \n",
      "==============================================================================\n",
      "Dep. Variable:                    SPL   R-squared:                       0.430\n",
      "Model:                            OLS   Adj. R-squared:                  0.430\n",
      "Method:                 Least Squares   F-statistic:                     2640.\n",
      "Date:                Thu, 16 Jul 2020   Prob (F-statistic):               0.00\n",
      "Time:                        13:04:51   Log-Likelihood:                 12926.\n",
      "No. Observations:               21031   AIC:                        -2.584e+04\n",
      "Df Residuals:                   21024   BIC:                        -2.578e+04\n",
      "Df Model:                           6                                         \n",
      "Covariance Type:            nonrobust                                         \n",
      "=================================================================================\n",
      "                    coef    std err          t      P>|t|      [0.025      0.975]\n",
      "---------------------------------------------------------------------------------\n",
      "Intercept         2.4783      0.004    600.555      0.000       2.470       2.486\n",
      "std_d            -0.6542      0.012    -53.555      0.000      -0.678      -0.630\n",
      "std_rs            0.2039      0.012     16.882      0.000       0.180       0.228\n",
      "std_rw           -0.1304      0.012    -10.772      0.000      -0.154      -0.107\n",
      "std_d:std_rs     -0.4320      0.031    -13.878      0.000      -0.493      -0.371\n",
      "std_d:std_rw      0.4835      0.031     15.531      0.000       0.422       0.544\n",
      "std_rs:std_rw     0.1955      0.031      6.310      0.000       0.135       0.256\n",
      "==============================================================================\n",
      "Omnibus:                      552.392   Durbin-Watson:                   1.770\n",
      "Prob(Omnibus):                  0.000   Jarque-Bera (JB):             1332.354\n",
      "Skew:                          -0.066   Prob(JB):                    4.82e-290\n",
      "Kurtosis:                       4.226   Cond. No.                         42.5\n",
      "==============================================================================\n",
      "\n",
      "Warnings:\n",
      "[1] Standard Errors assume that the covariance matrix of the errors is correctly specified.\n",
      "                    df      sum_sq     mean_sq             F         PR(>F)\n",
      "std_d              1.0  249.263518  249.263518  14549.505062   0.000000e+00\n",
      "std_rs             1.0   13.245946   13.245946    773.165511  3.870684e-167\n",
      "std_rw             1.0    0.830159    0.830159     48.456380   3.476616e-12\n",
      "std_d:std_rs       1.0    3.275030    3.275030    191.163416   2.741139e-43\n",
      "std_d:std_rw       1.0    4.114520    4.114520    240.164408   7.193482e-54\n",
      "std_rs:std_rw      1.0    0.682211    0.682211     39.820644   2.839450e-10\n",
      "Residual       21024.0  360.185187    0.017132           NaN            NaN\n"
     ]
    }
   ],
   "source": [
    "#fit model\n",
    "res = smf.ols(formula='SPL ~ (std_d + std_rs + std_rw) ** 2', data=df).fit()\n",
    "print(res.summary())\n",
    "print(anova_lm(res))"
   ]
  },
  {
   "cell_type": "code",
   "execution_count": null,
   "metadata": {},
   "outputs": [],
   "source": []
  },
  {
   "cell_type": "code",
   "execution_count": null,
   "metadata": {},
   "outputs": [],
   "source": []
  }
 ],
 "metadata": {
  "kernelspec": {
   "display_name": "Python 3",
   "language": "python",
   "name": "python3"
  },
  "language_info": {
   "codemirror_mode": {
    "name": "ipython",
    "version": 3
   },
   "file_extension": ".py",
   "mimetype": "text/x-python",
   "name": "python",
   "nbconvert_exporter": "python",
   "pygments_lexer": "ipython3",
   "version": "3.8.2"
  }
 },
 "nbformat": 4,
 "nbformat_minor": 4
}
