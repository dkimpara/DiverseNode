{
 "cells": [
  {
   "cell_type": "code",
   "execution_count": 49,
   "metadata": {},
   "outputs": [],
   "source": [
    "import networkx as nx\n",
    "import generator as gen\n",
    "import simulate as sim\n",
    "import conComp as cc\n",
    "import random\n",
    "import numpy as np\n",
    "\n",
    "g = gen.graph_gen(2,50,0.2,0.02)"
   ]
  },
  {
   "cell_type": "code",
   "execution_count": 50,
   "metadata": {},
   "outputs": [],
   "source": [
    "dev = [0.1] * 4\n",
    "std_devs = [dev, dev]\n",
    "changeVec = [[0.5, 0.5, 0.5], [0.5, 0.5, 0.5]]\n",
    "cmat = gen.culture_init(g, std_devs, changeVec)"
   ]
  },
  {
   "cell_type": "code",
   "execution_count": 51,
   "metadata": {},
   "outputs": [],
   "source": [
    "def culture_distance(g, culturemat, culture_change_all=False, norm=2):\n",
    "    blocks = list(g.nodes(data='block'))\n",
    "    b1 = [v for v, block in blocks if block == 0]\n",
    "    b2 = [v for v, block in blocks if block == 1]\n",
    "    distance = 0.0\n",
    "    # compute culture distance for every pair b1, b2\n",
    "    if culture_change_all:\n",
    "        for u in b1:\n",
    "            for v in b2:\n",
    "                distance += np.linalg.norm(culturemat[u] - culturemat[v], norm)\n",
    "    else:\n",
    "        for u in b1:\n",
    "            for v in b2:\n",
    "                distance += np.linalg.norm(culturemat[u, :-3]\n",
    "                                           - culturemat[v, :-3], norm)\n",
    "    return distance / (len(b1) * len(b2))"
   ]
  },
  {
   "cell_type": "code",
   "execution_count": 52,
   "metadata": {},
   "outputs": [],
   "source": [
    "avg = 0.0\n",
    "for i in range(500):\n",
    "    cmat = gen.culture_init(g, std_devs, changeVec)\n",
    "    avg += culture_distance(g, cmat)\n",
    "avg /= 500"
   ]
  },
  {
   "cell_type": "code",
   "execution_count": 48,
   "metadata": {},
   "outputs": [
    {
     "data": {
      "text/plain": [
       "array([ 0.0020679 , -0.00057768,  0.0017028 , -0.00192419,  0.0074768 ,\n",
       "       -0.00913018, -0.00381394, -0.00400485,  0.00042682, -0.00513459])"
      ]
     },
     "execution_count": 48,
     "metadata": {},
     "output_type": "execute_result"
    }
   ],
   "source": [
    "dim = 10\n",
    "itera = 1000\n",
    "avg = np.zeros(dim)\n",
    "for i in range(itera):\n",
    "    avg += np.random.normal(0.0, dim * [0.1])\n",
    "avg/itera\n"
   ]
  },
  {
   "cell_type": "code",
   "execution_count": 53,
   "metadata": {},
   "outputs": [
    {
     "name": "stdout",
     "output_type": "stream",
     "text": [
      "3.029961356889575\n"
     ]
    }
   ],
   "source": [
    "print(avg)"
   ]
  },
  {
   "cell_type": "code",
   "execution_count": null,
   "metadata": {},
   "outputs": [],
   "source": []
  }
 ],
 "metadata": {
  "kernelspec": {
   "display_name": "Python 3",
   "language": "python",
   "name": "python3"
  },
  "language_info": {
   "codemirror_mode": {
    "name": "ipython",
    "version": 3
   },
   "file_extension": ".py",
   "mimetype": "text/x-python",
   "name": "python",
   "nbconvert_exporter": "python",
   "pygments_lexer": "ipython3",
   "version": "3.8.2"
  }
 },
 "nbformat": 4,
 "nbformat_minor": 4
}
