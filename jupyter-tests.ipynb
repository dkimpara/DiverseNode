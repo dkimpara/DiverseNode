{
 "cells": [
  {
   "cell_type": "code",
   "execution_count": 22,
   "metadata": {},
   "outputs": [
    {
     "data": {
      "text/plain": [
       "OutEdgeView([(0, 6), (0, 7), (0, 21), (1, 8), (1, 11), (1, 16), (1, 19), (2, 19), (3, 10), (3, 14), (3, 18), (4, 11), (4, 12), (4, 16), (4, 20), (4, 21), (4, 24), (5, 9), (5, 11), (5, 16), (5, 18), (6, 1), (6, 2), (6, 3), (6, 4), (6, 9), (6, 12), (6, 13), (6, 17), (6, 21), (7, 0), (7, 1), (7, 6), (7, 8), (7, 9), (7, 17), (7, 19), (7, 22), (8, 0), (8, 1), (8, 9), (8, 18), (8, 21), (8, 23), (9, 4), (9, 7), (9, 11), (9, 22), (10, 1), (10, 6), (10, 13), (10, 15), (10, 18), (10, 19), (10, 24), (11, 7), (11, 24), (12, 2), (12, 5), (12, 11), (12, 14), (12, 18), (12, 19), (12, 21), (13, 4), (13, 14), (13, 19), (13, 24), (14, 0), (14, 2), (14, 6), (14, 21), (15, 10), (15, 18), (15, 22), (16, 3), (16, 12), (16, 19), (17, 7), (17, 10), (17, 19), (17, 20), (18, 9), (18, 11), (18, 15), (18, 22), (19, 2), (19, 9), (20, 0), (20, 5), (20, 8), (20, 10), (20, 12), (20, 21), (20, 22), (20, 24), (21, 1), (21, 2), (21, 4), (21, 6), (21, 15), (21, 18), (21, 22), (22, 0), (22, 4), (22, 5), (22, 8), (22, 13), (22, 16), (22, 17), (23, 8), (23, 11), (23, 20), (24, 3), (24, 20), (25, 29), (25, 38), (25, 39), (25, 44), (25, 48), (26, 25), (26, 48), (27, 34), (27, 36), (27, 38), (27, 40), (27, 45), (27, 47), (28, 31), (28, 36), (28, 39), (28, 45), (28, 46), (29, 27), (29, 31), (29, 33), (29, 43), (29, 47), (30, 26), (30, 34), (30, 38), (30, 39), (30, 42), (30, 47), (31, 29), (31, 40), (31, 41), (31, 45), (32, 35), (32, 46), (32, 49), (33, 26), (33, 30), (33, 38), (33, 42), (34, 27), (34, 30), (34, 36), (35, 42), (35, 49), (36, 41), (36, 49), (37, 27), (37, 36), (37, 39), (37, 40), (37, 43), (37, 47), (38, 34), (38, 36), (38, 39), (38, 40), (38, 43), (38, 45), (39, 28), (39, 34), (39, 43), (39, 46), (40, 28), (40, 36), (40, 41), (40, 47), (40, 48), (41, 28), (41, 30), (41, 31), (41, 33), (41, 39), (41, 44), (41, 45), (41, 46), (42, 25), (42, 27), (42, 31), (42, 39), (42, 46), (43, 27), (43, 29), (43, 33), (43, 37), (43, 48), (44, 27), (44, 28), (44, 38), (44, 40), (44, 45), (45, 31), (45, 36), (45, 40), (45, 42), (46, 28), (46, 29), (46, 34), (46, 37), (46, 41), (46, 45), (47, 26), (47, 27), (47, 35), (47, 40), (47, 45), (47, 49), (48, 28), (48, 38), (48, 40), (48, 42), (48, 44), (49, 30), (49, 38), (49, 40), (49, 46), (49, 47)])"
      ]
     },
     "execution_count": 22,
     "metadata": {},
     "output_type": "execute_result"
    }
   ],
   "source": [
    "import networkx as nx\n",
    "import generator as gen\n",
    "import simulate as sim\n",
    "import conComp as cc\n",
    "import random\n",
    "import numpy as np\n",
    "\n",
    "g = gen.graph_gen(2,50,0.2,0.0001)\n",
    "g.edges"
   ]
  },
  {
   "cell_type": "code",
   "execution_count": 23,
   "metadata": {},
   "outputs": [
    {
     "name": "stdout",
     "output_type": "stream",
     "text": [
      "0.15819802114619058\n"
     ]
    },
    {
     "ename": "TypeError",
     "evalue": "increase_edge() takes 3 positional arguments but 4 were given",
     "output_type": "error",
     "traceback": [
      "\u001b[0;31m-----------------------------------------------------------------------\u001b[0m",
      "\u001b[0;31mTypeError\u001b[0m                             Traceback (most recent call last)",
      "\u001b[0;32m<ipython-input-23-d724f519f5a1>\u001b[0m in \u001b[0;36m<module>\u001b[0;34m\u001b[0m\n\u001b[1;32m      1\u001b[0m \u001b[0mprint\u001b[0m\u001b[0;34m(\u001b[0m\u001b[0mg\u001b[0m\u001b[0;34m.\u001b[0m\u001b[0medges\u001b[0m\u001b[0;34m[\u001b[0m\u001b[0;36m0\u001b[0m\u001b[0;34m,\u001b[0m\u001b[0;36m6\u001b[0m\u001b[0;34m]\u001b[0m\u001b[0;34m[\u001b[0m\u001b[0;34m'weight'\u001b[0m\u001b[0;34m]\u001b[0m\u001b[0;34m)\u001b[0m\u001b[0;34m\u001b[0m\u001b[0;34m\u001b[0m\u001b[0m\n\u001b[0;32m----> 2\u001b[0;31m \u001b[0msim\u001b[0m\u001b[0;34m.\u001b[0m\u001b[0mincrease_edge\u001b[0m\u001b[0;34m(\u001b[0m\u001b[0;36m6\u001b[0m\u001b[0;34m,\u001b[0m\u001b[0;36m0\u001b[0m\u001b[0;34m,\u001b[0m\u001b[0mg\u001b[0m\u001b[0;34m,\u001b[0m\u001b[0;36m2\u001b[0m\u001b[0;34m)\u001b[0m\u001b[0;34m\u001b[0m\u001b[0;34m\u001b[0m\u001b[0m\n\u001b[0m\u001b[1;32m      3\u001b[0m \u001b[0mprint\u001b[0m\u001b[0;34m(\u001b[0m\u001b[0mg\u001b[0m\u001b[0;34m.\u001b[0m\u001b[0medges\u001b[0m\u001b[0;34m[\u001b[0m\u001b[0;36m0\u001b[0m\u001b[0;34m,\u001b[0m\u001b[0;36m6\u001b[0m\u001b[0;34m]\u001b[0m\u001b[0;34m[\u001b[0m\u001b[0;34m'weight'\u001b[0m\u001b[0;34m]\u001b[0m\u001b[0;34m)\u001b[0m\u001b[0;34m\u001b[0m\u001b[0;34m\u001b[0m\u001b[0m\n",
      "\u001b[0;31mTypeError\u001b[0m: increase_edge() takes 3 positional arguments but 4 were given"
     ]
    }
   ],
   "source": [
    "print(g.edges[0,6]['weight'])\n",
    "sim.increase_edge(6,0,g,2)\n",
    "print(g.edges[0,6]['weight'])"
   ]
  },
  {
   "cell_type": "code",
   "execution_count": 11,
   "metadata": {},
   "outputs": [],
   "source": [
    "g.edges[0,5]['weight'] = 2"
   ]
  },
  {
   "cell_type": "code",
   "execution_count": 29,
   "metadata": {},
   "outputs": [],
   "source": [
    "g, ccomp = check_create_edge(0,25,g,ccomp)"
   ]
  },
  {
   "cell_type": "code",
   "execution_count": 27,
   "metadata": {},
   "outputs": [
    {
     "name": "stdout",
     "output_type": "stream",
     "text": [
      "False\n"
     ]
    }
   ],
   "source": [
    "print((0, 25) in g.edges)\n",
    "ccomp = cc.Components(g)"
   ]
  },
  {
   "cell_type": "code",
   "execution_count": 30,
   "metadata": {},
   "outputs": [
    {
     "name": "stdout",
     "output_type": "stream",
     "text": [
      "{0, 1, 2, 3, 4, 5, 6, 7, 8, 9, 10, 11, 12, 13, 14, 15, 16, 17, 18, 19, 20, 21, 22, 23, 24, 25, 26, 27, 28, 29, 30, 31, 32, 33, 34, 35, 36, 37, 38, 39, 40, 41, 42, 43, 44, 45, 46, 47, 48, 49}\n",
      "<class 'set'>\n"
     ]
    }
   ],
   "source": [
    "for c in list(ccomp.uf.to_sets()):\n",
    "    print(c)\n",
    "    print(type(c))"
   ]
  },
  {
   "cell_type": "code",
   "execution_count": null,
   "metadata": {},
   "outputs": [],
   "source": []
  }
 ],
 "metadata": {
  "kernelspec": {
   "display_name": "Python 3",
   "language": "python",
   "name": "python3"
  },
  "language_info": {
   "codemirror_mode": {
    "name": "ipython",
    "version": 3
   },
   "file_extension": ".py",
   "mimetype": "text/x-python",
   "name": "python",
   "nbconvert_exporter": "python",
   "pygments_lexer": "ipython3",
   "version": "3.8.2"
  }
 },
 "nbformat": 4,
 "nbformat_minor": 4
}
