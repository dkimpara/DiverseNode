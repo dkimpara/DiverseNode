{
 "cells": [
  {
   "cell_type": "code",
   "execution_count": 1,
   "metadata": {},
   "outputs": [],
   "source": [
    "import networkx as nx\n",
    "import generator as gen\n",
    "import simulate as sim\n",
    "import conComp as cc\n",
    "import random\n",
    "import numpy as np\n",
    "import mainMethods as mn\n"
   ]
  },
  {
   "cell_type": "code",
   "execution_count": 39,
   "metadata": {},
   "outputs": [
    {
     "ename": "NetworkXError",
     "evalue": "Graph is not weakly connected.",
     "output_type": "error",
     "traceback": [
      "\u001b[0;31m---------------------------------------------------------------------------\u001b[0m",
      "\u001b[0;31mNetworkXError\u001b[0m                             Traceback (most recent call last)",
      "\u001b[0;32m<ipython-input-39-d2f3ba934abe>\u001b[0m in \u001b[0;36m<module>\u001b[0;34m\u001b[0m\n\u001b[1;32m      6\u001b[0m     \u001b[0mcmat\u001b[0m \u001b[0;34m=\u001b[0m \u001b[0mgen\u001b[0m\u001b[0;34m.\u001b[0m\u001b[0mculture_init\u001b[0m\u001b[0;34m(\u001b[0m\u001b[0mg_init\u001b[0m\u001b[0;34m,\u001b[0m \u001b[0mstd_devs\u001b[0m\u001b[0;34m,\u001b[0m \u001b[0mchangeVec\u001b[0m\u001b[0;34m)\u001b[0m\u001b[0;34m\u001b[0m\u001b[0;34m\u001b[0m\u001b[0m\n\u001b[1;32m      7\u001b[0m     \u001b[0mg\u001b[0m\u001b[0;34m,\u001b[0m \u001b[0mculturemat\u001b[0m \u001b[0;34m=\u001b[0m \u001b[0msim\u001b[0m\u001b[0;34m.\u001b[0m\u001b[0msimulate_iterstop\u001b[0m\u001b[0;34m(\u001b[0m\u001b[0mg\u001b[0m\u001b[0;34m,\u001b[0m\u001b[0mcmat\u001b[0m\u001b[0;34m)\u001b[0m\u001b[0;34m\u001b[0m\u001b[0;34m\u001b[0m\u001b[0m\n\u001b[0;32m----> 8\u001b[0;31m     \u001b[0mprint\u001b[0m\u001b[0;34m(\u001b[0m\u001b[0mnx\u001b[0m\u001b[0;34m.\u001b[0m\u001b[0maverage_shortest_path_length\u001b[0m\u001b[0;34m(\u001b[0m\u001b[0mg\u001b[0m\u001b[0;34m)\u001b[0m\u001b[0;34m)\u001b[0m\u001b[0;34m\u001b[0m\u001b[0;34m\u001b[0m\u001b[0m\n\u001b[0m",
      "\u001b[0;32m~/.local/lib/python3.8/site-packages/networkx/algorithms/shortest_paths/generic.py\u001b[0m in \u001b[0;36maverage_shortest_path_length\u001b[0;34m(G, weight, method)\u001b[0m\n\u001b[1;32m    401\u001b[0m     \u001b[0;31m# Shortest path length is undefined if the graph is disconnected.\u001b[0m\u001b[0;34m\u001b[0m\u001b[0;34m\u001b[0m\u001b[0;34m\u001b[0m\u001b[0m\n\u001b[1;32m    402\u001b[0m     \u001b[0;32mif\u001b[0m \u001b[0mG\u001b[0m\u001b[0;34m.\u001b[0m\u001b[0mis_directed\u001b[0m\u001b[0;34m(\u001b[0m\u001b[0;34m)\u001b[0m \u001b[0;32mand\u001b[0m \u001b[0;32mnot\u001b[0m \u001b[0mnx\u001b[0m\u001b[0;34m.\u001b[0m\u001b[0mis_weakly_connected\u001b[0m\u001b[0;34m(\u001b[0m\u001b[0mG\u001b[0m\u001b[0;34m)\u001b[0m\u001b[0;34m:\u001b[0m\u001b[0;34m\u001b[0m\u001b[0;34m\u001b[0m\u001b[0m\n\u001b[0;32m--> 403\u001b[0;31m         \u001b[0;32mraise\u001b[0m \u001b[0mnx\u001b[0m\u001b[0;34m.\u001b[0m\u001b[0mNetworkXError\u001b[0m\u001b[0;34m(\u001b[0m\u001b[0;34m\"Graph is not weakly connected.\"\u001b[0m\u001b[0;34m)\u001b[0m\u001b[0;34m\u001b[0m\u001b[0;34m\u001b[0m\u001b[0m\n\u001b[0m\u001b[1;32m    404\u001b[0m     \u001b[0;32mif\u001b[0m \u001b[0;32mnot\u001b[0m \u001b[0mG\u001b[0m\u001b[0;34m.\u001b[0m\u001b[0mis_directed\u001b[0m\u001b[0;34m(\u001b[0m\u001b[0;34m)\u001b[0m \u001b[0;32mand\u001b[0m \u001b[0;32mnot\u001b[0m \u001b[0mnx\u001b[0m\u001b[0;34m.\u001b[0m\u001b[0mis_connected\u001b[0m\u001b[0;34m(\u001b[0m\u001b[0mG\u001b[0m\u001b[0;34m)\u001b[0m\u001b[0;34m:\u001b[0m\u001b[0;34m\u001b[0m\u001b[0;34m\u001b[0m\u001b[0m\n\u001b[1;32m    405\u001b[0m         \u001b[0;32mraise\u001b[0m \u001b[0mnx\u001b[0m\u001b[0;34m.\u001b[0m\u001b[0mNetworkXError\u001b[0m\u001b[0;34m(\u001b[0m\u001b[0;34m\"Graph is not connected.\"\u001b[0m\u001b[0;34m)\u001b[0m\u001b[0;34m\u001b[0m\u001b[0;34m\u001b[0m\u001b[0m\n",
      "\u001b[0;31mNetworkXError\u001b[0m: Graph is not weakly connected."
     ]
    }
   ],
   "source": [
    "\n",
    "for i in range(50):\n",
    "    g_init = gen.graph_gen(2,50,0.2,0.02)\n",
    "    dev = [0.1] + [0.5] + [0.5] * 2\n",
    "    std_devs = [dev, dev]\n",
    "    changeVec = [[0.5, 0.5, 0.5], [0.5, 0.5, 0.5]]\n",
    "    cmat = gen.culture_init(g_init, std_devs, changeVec)\n",
    "    g, culturemat = sim.simulate_iterstop(g,cmat)\n",
    "    print(nx.average_shortest_path_length(g))"
   ]
  },
  {
   "cell_type": "code",
   "execution_count": 41,
   "metadata": {},
   "outputs": [
    {
     "data": {
      "text/plain": [
       "[{0,\n",
       "  1,\n",
       "  2,\n",
       "  3,\n",
       "  4,\n",
       "  5,\n",
       "  6,\n",
       "  7,\n",
       "  8,\n",
       "  9,\n",
       "  10,\n",
       "  11,\n",
       "  12,\n",
       "  13,\n",
       "  14,\n",
       "  16,\n",
       "  17,\n",
       "  18,\n",
       "  19,\n",
       "  20,\n",
       "  21,\n",
       "  22,\n",
       "  23,\n",
       "  24},\n",
       " {15},\n",
       " {25,\n",
       "  26,\n",
       "  27,\n",
       "  28,\n",
       "  29,\n",
       "  30,\n",
       "  31,\n",
       "  32,\n",
       "  33,\n",
       "  34,\n",
       "  35,\n",
       "  36,\n",
       "  37,\n",
       "  38,\n",
       "  39,\n",
       "  40,\n",
       "  41,\n",
       "  42,\n",
       "  43,\n",
       "  44,\n",
       "  45,\n",
       "  46,\n",
       "  47,\n",
       "  48,\n",
       "  49}]"
      ]
     },
     "execution_count": 41,
     "metadata": {},
     "output_type": "execute_result"
    }
   ],
   "source": [
    "gundir = nx.DiGraph.to_undirected(g)\n",
    "list(nx.algorithms.components.connected_components(gundir))"
   ]
  },
  {
   "cell_type": "code",
   "execution_count": 38,
   "metadata": {},
   "outputs": [
    {
     "data": {
      "image/png": "[encoded data removed]",
      "text/plain": [
       "<Figure size 432x288 with 1 Axes>"
      ]
     },
     "metadata": {},
     "output_type": "display_data"
    }
   ],
   "source": [
    "#ccomp = cc.Components(g)\n",
    "g, cmat, ccomp = sim.sim_one_iter(g,cmat,ccomp,False)\n",
    "nx.draw(g)"
   ]
  },
  {
   "cell_type": "code",
   "execution_count": 42,
   "metadata": {},
   "outputs": [
    {
     "data": {
      "text/plain": [
       "array([[0.99      , 0.32482933, 0.10506248],\n",
       "       [0.01      , 0.59163943, 0.27835828],\n",
       "       [0.02398624, 0.21698586, 0.01      ],\n",
       "       [0.72368559, 0.28357497, 0.60084484],\n",
       "       [0.58649579, 0.39917438, 0.56335944],\n",
       "       [0.17105703, 0.27794388, 0.35233522],\n",
       "       [0.14278383, 0.79931588, 0.95223051],\n",
       "       [0.6737501 , 0.74267569, 0.26927087],\n",
       "       [0.4655626 , 0.99      , 0.61064426],\n",
       "       [0.53640254, 0.26208431, 0.8005792 ],\n",
       "       [0.45811041, 0.51662774, 0.41198266],\n",
       "       [0.99      , 0.40262459, 0.43622805],\n",
       "       [0.99      , 0.06357575, 0.96017424],\n",
       "       [0.96949247, 0.93416309, 0.01      ],\n",
       "       [0.49640216, 0.27786223, 0.1419397 ],\n",
       "       [0.35400977, 0.01      , 0.99      ],\n",
       "       [0.4056965 , 0.99      , 0.85840833],\n",
       "       [0.87203674, 0.99      , 0.40946961],\n",
       "       [0.9990518 , 0.42124208, 0.25111244],\n",
       "       [0.94819456, 0.99      , 0.99      ],\n",
       "       [0.83525003, 0.52447301, 0.20514414],\n",
       "       [0.54167084, 0.99      , 0.99      ],\n",
       "       [0.2983712 , 0.99      , 0.48230498],\n",
       "       [0.52609129, 0.0276014 , 0.61875438],\n",
       "       [0.72300482, 0.01      , 0.4110372 ],\n",
       "       [0.59880793, 0.01      , 0.01      ],\n",
       "       [0.33015869, 0.94474514, 0.01      ],\n",
       "       [0.01      , 0.01      , 0.91207536],\n",
       "       [0.53263329, 0.1723659 , 0.01      ],\n",
       "       [0.99      , 0.63231143, 0.05593648],\n",
       "       [0.52385169, 0.01      , 0.01      ],\n",
       "       [0.0155637 , 0.99      , 0.63719553],\n",
       "       [0.1884498 , 0.41516239, 0.99      ],\n",
       "       [0.37409484, 0.98734313, 0.73402526],\n",
       "       [0.25889102, 0.65180474, 0.29219912],\n",
       "       [0.01      , 0.29177773, 0.99      ],\n",
       "       [0.20026848, 0.58075907, 0.01      ],\n",
       "       [0.99      , 0.99      , 0.76719866],\n",
       "       [0.26061836, 0.55766073, 0.52916372],\n",
       "       [0.70190797, 0.9347348 , 0.45340816],\n",
       "       [0.84532452, 0.15579317, 0.11761916],\n",
       "       [0.36216326, 0.42814364, 0.84251346],\n",
       "       [0.42179639, 0.56094392, 0.22865185],\n",
       "       [0.59619759, 0.62683268, 0.99      ],\n",
       "       [0.00305726, 0.99      , 0.23967945],\n",
       "       [0.91120081, 0.76866297, 0.16918716],\n",
       "       [0.64383497, 0.10245731, 0.99      ],\n",
       "       [0.95393708, 0.01      , 0.01      ],\n",
       "       [0.01      , 0.01856872, 0.57616819],\n",
       "       [0.13097672, 0.88069535, 0.01      ]])"
      ]
     },
     "execution_count": 42,
     "metadata": {},
     "output_type": "execute_result"
    }
   ],
   "source": [
    "cmat[:, -3:]"
   ]
  },
  {
   "cell_type": "code",
   "execution_count": 53,
   "metadata": {},
   "outputs": [
    {
     "name": "stdout",
     "output_type": "stream",
     "text": [
      "4\n"
     ]
    }
   ],
   "source": [
    "fail = 0\n",
    "for i in range(10 **4):\n",
    "    g_init = gen.graph_gen(2,50,0.2,0.02)\n",
    "    if not nx.is_weakly_connected(g_init):\n",
    "        fail += 1\n",
    "print(fail)"
   ]
  },
  {
   "cell_type": "code",
   "execution_count": null,
   "metadata": {},
   "outputs": [],
   "source": []
  }
 ],
 "metadata": {
  "kernelspec": {
   "display_name": "Python 3",
   "language": "python",
   "name": "python3"
  },
  "language_info": {
   "codemirror_mode": {
    "name": "ipython",
    "version": 3
   },
   "file_extension": ".py",
   "mimetype": "text/x-python",
   "name": "python",
   "nbconvert_exporter": "python",
   "pygments_lexer": "ipython3",
   "version": "3.8.2"
  }
 },
 "nbformat": 4,
 "nbformat_minor": 4
}
