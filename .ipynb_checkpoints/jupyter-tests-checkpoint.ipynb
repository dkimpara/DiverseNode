{
 "cells": [
  {
   "cell_type": "code",
   "execution_count": 1,
   "metadata": {},
   "outputs": [],
   "source": [
    "import networkx as nx\n",
    "import generator as gen\n",
    "import simulate as sim\n",
    "import conComp as cc\n",
    "import random\n",
    "import numpy as np\n"
   ]
  },
  {
   "cell_type": "code",
   "execution_count": 2,
   "metadata": {},
   "outputs": [
    {
     "name": "stderr",
     "output_type": "stream",
     "text": [
      "/mnt/c/Users/Cobalt/Desktop/DiverseNode/simulate.py:85: RuntimeWarning: overflow encountered in double_scalars\n",
      "  res = 0.5 ** z\n"
     ]
    }
   ],
   "source": [
    "np.seterr(all='warn')\n",
    "for i in range(10):\n",
    "    g = gen.graph_gen(2,50,0.2,0.02)\n",
    "    dev = [0.1] + [0.5] * 3\n",
    "    std_devs = [dev, dev]\n",
    "    changeVec = [[0.5, 0.5, 0.5], [0.5, 0.5, 0.5]]\n",
    "    cmat = gen.culture_init(g, std_devs, changeVec)\n",
    "    g, culturemat = sim.simulate_iterstop(g,cmat)"
   ]
  },
  {
   "cell_type": "code",
   "execution_count": 10,
   "metadata": {},
   "outputs": [
    {
     "name": "stdout",
     "output_type": "stream",
     "text": [
      "[ 1.21859725e+00  5.07581468e-01  6.52044725e-01  1.03739330e+00\n",
      " -5.96342238e-01 -7.12557149e-01  3.66724132e-01 -1.74839086e+00\n",
      " -1.74131193e-03 -8.79574509e-02  8.48995899e-01 -2.47845641e-02\n",
      "  1.17318229e-01]\n",
      "0.8489958985059245\n"
     ]
    }
   ],
   "source": [
    "d = 0.1\n",
    "z = 10000/d\n",
    "0.5 ** z\n",
    "c = cmat[0]\n",
    "print(c)\n",
    "print(c[-3])"
   ]
  },
  {
   "cell_type": "code",
   "execution_count": 4,
   "metadata": {},
   "outputs": [
    {
     "name": "stdout",
     "output_type": "stream",
     "text": [
      "[0, 1, 2, 3, 5, 6, 7, 8, 9, 10, 11, 12, 13, 14, 15, 16, 17, 18, 19, 20, 21, 22, 23, 24, 25, 26, 27, 28, 29, 30, 31, 32, 33, 34, 35, 36, 37, 38, 39, 40, 41, 42, 43, 44, 45, 46, 47, 48, 49]\n"
     ]
    }
   ],
   "source": [
    "print(l)"
   ]
  },
  {
   "cell_type": "code",
   "execution_count": null,
   "metadata": {},
   "outputs": [],
   "source": []
  }
 ],
 "metadata": {
  "kernelspec": {
   "display_name": "Python 3",
   "language": "python",
   "name": "python3"
  },
  "language_info": {
   "codemirror_mode": {
    "name": "ipython",
    "version": 3
   },
   "file_extension": ".py",
   "mimetype": "text/x-python",
   "name": "python",
   "nbconvert_exporter": "python",
   "pygments_lexer": "ipython3",
   "version": "3.8.2"
  }
 },
 "nbformat": 4,
 "nbformat_minor": 4
}
