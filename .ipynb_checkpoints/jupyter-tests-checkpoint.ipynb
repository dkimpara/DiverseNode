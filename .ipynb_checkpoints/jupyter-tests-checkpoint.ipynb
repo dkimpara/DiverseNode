{
 "cells": [
  {
   "cell_type": "code",
   "execution_count": 1,
   "metadata": {},
   "outputs": [],
   "source": [
    "import networkx as nx\n",
    "import generator as gen\n",
    "import simulate as sim\n",
    "import conComp as cc\n",
    "import random\n",
    "import numpy as np\n",
    "import mainMethods as mn\n",
    "import matplotlib.pyplot as plt"
   ]
  },
  {
   "cell_type": "code",
   "execution_count": 2,
   "metadata": {},
   "outputs": [],
   "source": [
    "def plot_d(g,cmat,rounds=500):\n",
    "    ccomp = cc.Components(g)\n",
    "    dist = []\n",
    "    for i in range(rounds):\n",
    "        g, cmat, ccomp, d = sim.sim_one_iter(g,cmat,ccomp,False)\n",
    "        dist.append(d)\n",
    "    return g, cmat, ccomp, dist"
   ]
  },
  {
   "cell_type": "code",
   "execution_count": 3,
   "metadata": {},
   "outputs": [],
   "source": [
    "\n",
    "g_init = gen.graph_gen(2,50,0.2,0.02)\n",
    "dev = [0.1] + [0.5] + [0.5] * 2\n",
    "std_devs = [dev, dev]\n",
    "changeVec = [[0.5, 0.5, 0.5], [0.5, 0.5, 0.5]]\n",
    "cmat = gen.culture_init(g_init, std_devs, changeVec)\n",
    "#g, culturemat = sim.simulate_iterstop(g_init,cmat)\n",
    "#print(nx.average_shortest_path_length(g))"
   ]
  },
  {
   "cell_type": "code",
   "execution_count": 4,
   "metadata": {},
   "outputs": [],
   "source": [
    "g, cmat, ccomp, dist = plot_d(g_init,cmat)"
   ]
  },
  {
   "cell_type": "code",
   "execution_count": 11,
   "metadata": {},
   "outputs": [
    {
     "data": {
      "text/plain": [
       "1"
      ]
     },
     "execution_count": 11,
     "metadata": {},
     "output_type": "execute_result"
    }
   ],
   "source": [
    "len(dist)"
   ]
  },
  {
   "cell_type": "code",
   "execution_count": 10,
   "metadata": {},
   "outputs": [
    {
     "name": "stderr",
     "output_type": "stream",
     "text": [
      "No handles with labels found to put in legend.\n"
     ]
    },
    {
     "data": {
      "image/png": "[encoded data removed]",
      "text/plain": [
       "<Figure size 432x288 with 1 Axes>"
      ]
     },
     "metadata": {
      "needs_background": "light"
     },
     "output_type": "display_data"
    }
   ],
   "source": [
    "x = list(range(500))\n",
    "for xe, ye in zip(x, dist):\n",
    "    plt.scatter([xe] * len(ye), ye)\n",
    "plt.legend()\n",
    "plt.show()"
   ]
  },
  {
   "cell_type": "code",
   "execution_count": 4,
   "metadata": {},
   "outputs": [
    {
     "data": {
      "text/plain": [
       "[{0,\n",
       "  1,\n",
       "  2,\n",
       "  3,\n",
       "  4,\n",
       "  5,\n",
       "  6,\n",
       "  7,\n",
       "  8,\n",
       "  9,\n",
       "  10,\n",
       "  11,\n",
       "  12,\n",
       "  13,\n",
       "  14,\n",
       "  15,\n",
       "  16,\n",
       "  17,\n",
       "  18,\n",
       "  19,\n",
       "  20,\n",
       "  21,\n",
       "  22,\n",
       "  23,\n",
       "  24,\n",
       "  25,\n",
       "  26,\n",
       "  27,\n",
       "  28,\n",
       "  29,\n",
       "  30,\n",
       "  31,\n",
       "  32,\n",
       "  33,\n",
       "  34,\n",
       "  35,\n",
       "  36,\n",
       "  37,\n",
       "  38,\n",
       "  39,\n",
       "  40,\n",
       "  41,\n",
       "  42,\n",
       "  43,\n",
       "  44,\n",
       "  45,\n",
       "  47,\n",
       "  48,\n",
       "  49},\n",
       " {46}]"
      ]
     },
     "execution_count": 4,
     "metadata": {},
     "output_type": "execute_result"
    }
   ],
   "source": [
    "gundir = nx.DiGraph.to_undirected(g)\n",
    "list(nx.algorithms.components.connected_components(gundir))"
   ]
  },
  {
   "cell_type": "code",
   "execution_count": 25,
   "metadata": {},
   "outputs": [
    {
     "name": "stdout",
     "output_type": "stream",
     "text": [
      "0.9999999999999996\n",
      "1.0\n"
     ]
    },
    {
     "data": {
      "image/png": "[encoded data removed]",
      "text/plain": [
       "<Figure size 432x288 with 1 Axes>"
      ]
     },
     "metadata": {},
     "output_type": "display_data"
    }
   ],
   "source": [
    "#ccomp = cc.Components(g)\n",
    "print(g.edges[12,17]['weight'])\n",
    "for i in range(100):\n",
    "    g, cmat, ccomp = sim.sim_one_iter(g,cmat,ccomp,False)\n",
    "print(g.edges[0,3]['weight'])\n",
    "nx.draw(g)"
   ]
  },
  {
   "cell_type": "code",
   "execution_count": 26,
   "metadata": {},
   "outputs": [
    {
     "data": {
      "text/plain": [
       "OutEdgeDataView([(0, 3, 1.0), (0, 8, 1.0), (0, 19, 0.9999999933315666), (0, 23, 0.9999927598643864), (0, 4, 1.0), (0, 7, 1.0), (0, 17, 0.9999999999898259), (0, 15, 0.9999999999999998), (0, 2, 0.9999999999999998), (0, 10, 1.0), (0, 20, 0.9999999999999998), (0, 6, 0.9999918128094543), (0, 14, 0.012187045127551026), (1, 0, 1.0), (1, 2, 0.9999999999999998), (1, 4, 1.0), (1, 5, 1.0), (1, 16, 1.0), (1, 19, 0.999999737513049), (1, 22, 0.9999999999999998), (1, 8, 1.0), (2, 1, 0.9999999999999998), (2, 3, 1.0), (2, 4, 1.0), (2, 10, 1.0), (2, 22, 0.9999999999999998), (2, 24, 0.9999999999999993), (2, 21, 0.9999999999999998), (2, 20, 0.9999999999999998), (2, 48, 0.3995133367712771), (2, 2, 0.5129096732129977), (3, 2, 0.9999999999999998), (3, 12, 1.0), (3, 15, 0.9999999999999998), (3, 16, 1.0), (3, 18, 0.9999999998495925), (3, 19, 0.9999999988148527), (3, 22, 0.9999999999999998), (3, 23, 0.9999996695831818), (3, 8, 1.0), (3, 4, 1.0), (3, 0, 0.9999997068319786), (3, 5, 0.9999992746532774), (3, 10, 0.911724893937182), (4, 0, 1.0), (4, 1, 0.9999999999999998), (4, 3, 1.0), (4, 18, 0.9999999628307816), (4, 48, 0.9999999999999998), (4, 2, 0.9999999999999998), (4, 15, 0.9999999999999998), (4, 10, 1.0), (4, 23, 0.5292417535614001), (4, 14, 0.01974098608726602), (4, 19, 0.06104672689115215), (5, 1, 0.9999999999999998), (5, 4, 1.0), (5, 11, 0.9975637154117133), (5, 18, 0.9999987922201198), (5, 19, 0.9999998730820298), (5, 6, 0.9999999819198443), (5, 0, 0.9992445670781172), (6, 0, 1.0), (6, 2, 0.9999999999999998), (6, 5, 1.0), (6, 12, 1.0), (6, 21, 0.9999999999999998), (6, 22, 0.9999999999999998), (6, 1, 0.9999999999999998), (6, 48, 0.9999999999999998), (6, 14, 0.020936143440418886), (6, 17, 0.9828704556175674), (7, 1, 0.9999999999999998), (7, 5, 1.0), (7, 6, 0.9999999999999998), (7, 15, 0.9999999999999998), (7, 18, 0.9999999953433862), (7, 22, 0.9999999999999998), (7, 48, 0.9999999999999998), (7, 17, 0.9999999999998799), (7, 2, 0.9999999999999998), (7, 3, 1.0), (7, 19, 0.9987717984592189), (7, 0, 1.0), (7, 4, 0.9999999737183516), (7, 21, 0.997616622969728), (8, 1, 0.9999999999999998), (8, 15, 0.9999999999999998), (8, 18, 0.9999999909421536), (8, 5, 1.0), (8, 20, 0.9999999999999998), (8, 12, 1.0), (8, 48, 0.9999999999999998), (8, 10, 1.0), (8, 17, 0.9999999972281648), (8, 22, 0.9999999999999833), (8, 6, 0.9999999999999998), (8, 16, 1.0), (8, 21, 0.9997452976551605), (8, 24, 0.03781960385340379), (8, 4, 0.02063054866740603), (9, 5, 1.0), (9, 14, 0.8891382026774167), (9, 17, 0.9999999996763349), (9, 18, 0.9831341311357362), (9, 9, 0.9999999999999998), (9, 16, 1.0), (9, 8, 1.0), (9, 0, 0.9999999999977613), (10, 4, 1.0), (10, 6, 0.9999999999999998), (10, 18, 0.9999999876852311), (10, 22, 0.9999999999999998), (10, 24, 0.9999999999999993), (10, 11, 0.21667997218541402), (10, 1, 0.9999999999999998), (10, 0, 1.0), (10, 10, 1.0), (10, 2, 0.9999999999999998), (10, 17, 0.9997943008891143), (10, 3, 0.9999999992467106), (10, 15, 0.9989727695312398), (10, 7, 0.9999999999993585), (11, 0, 1.0), (11, 5, 1.0), (11, 8, 1.0), (11, 48, 0.9999999999999998), (11, 17, 0.9999999999999996), (11, 11, 0.11353607026783483), (11, 14, 0.040890015162070255), (11, 21, 0.9999999999999998), (11, 1, 0.9999999137674583), (11, 19, 0.0685618702190288), (11, 12, 0.31861745930485924), (12, 10, 1.0), (12, 15, 0.9999999999999998), (12, 17, 0.9999999999999996), (12, 19, 0.9999999763657096), (12, 23, 0.999999276474783), (12, 12, 1.0), (12, 8, 1.0), (12, 22, 0.9999999999999751), (12, 4, 0.9999999999999949), (13, 8, 1.0), (13, 14, 0.8239769205215165), (13, 19, 0.998609697237243), (13, 13, 0.9999999999999996), (13, 10, 0.9999999655886774), (13, 4, 0.9930336274310735), (14, 18, 0.999999829094384), (14, 20, 0.9999999999999998), (14, 15, 0.9999999999999998), (14, 10, 1.0), (14, 4, 1.0), (14, 23, 0.5701447405851577), (14, 1, 0.9999590304713017), (14, 11, 0.015140587510088748), (14, 3, 0.9999999996884272), (14, 2, 0.9988463283152378), (14, 17, 0.29800181997327346), (14, 8, 0.9999873028504227), (15, 8, 1.0), (15, 10, 1.0), (15, 20, 0.9999999999999998), (15, 22, 0.9999999999999998), (15, 24, 0.9999999999999993), (15, 12, 1.0), (15, 19, 0.9999959268484983), (15, 4, 1.0), (15, 48, 0.9999999993334272), (15, 21, 0.9357992620643116), (15, 0, 0.7116516440164014), (15, 23, 0.01277877899223348), (16, 1, 0.9999999999999998), (16, 2, 0.9999999999999998), (16, 6, 0.9999999999999998), (16, 17, 0.9999999999999996), (16, 11, 0.02595432713034683), (16, 22, 0.9999332730441078), (16, 3, 0.12491702283350482), (17, 12, 1.0), (17, 24, 0.9999999999999993), (17, 15, 0.9999999999999998), (17, 6, 0.9999999999999998), (17, 8, 1.0), (17, 14, 0.04168161786604001), (17, 1, 0.9999999463261275), (17, 11, 0.019168735474205376), (18, 5, 1.0), (18, 14, 0.9164112410705751), (18, 3, 1.0), (18, 24, 0.9999999993921205), (18, 48, 0.9999999999999998), (18, 18, 0.9983527941339636), (19, 1, 0.9999999999999998), (19, 3, 1.0), (19, 4, 1.0), (19, 21, 0.9999999999999998), (19, 24, 0.9999999999999993), (19, 5, 0.9999999999999227), (20, 12, 1.0), (20, 16, 1.0), (20, 1, 0.9999999999999998), (20, 5, 1.0), (20, 15, 0.9999999998650697), (20, 6, 0.9999999999999942), (21, 2, 0.9999999999999998), (21, 5, 1.0), (21, 6, 0.9999999999999998), (21, 16, 1.0), (21, 18, 0.9999999721972258), (21, 19, 0.9999998335702222), (21, 23, 0.9999956049406548), (21, 7, 1.0), (21, 11, 0.10200709019611472), (21, 17, 0.9999999996615156), (21, 10, 1.0), (21, 15, 0.9999999999999993), (21, 24, 0.9999930701755001), (21, 14, 0.011599570350446417), (22, 0, 1.0), (22, 6, 0.9999999999999998), (22, 14, 0.9735381150386486), (22, 15, 0.9999999999999998), (22, 19, 0.9999933077772791), (22, 16, 1.0), (22, 48, 0.9999999999898799), (22, 12, 0.9999535845318763), (23, 0, 1.0), (23, 12, 1.0), (23, 16, 1.0), (23, 21, 0.9999999999999998), (23, 23, 0.8987911070366995), (23, 3, 1.0), (23, 22, 0.9999999630807654), (23, 4, 0.9999995028927773), (23, 24, 0.03210171490345943), (24, 0, 1.0), (24, 10, 1.0), (24, 16, 1.0), (24, 18, 0.999999998328744), (24, 23, 0.99999995593808), (24, 5, 0.9999999999995404), (24, 24, 0.03781960385340379), (25, 33, 1.0), (25, 34, 1.0), (25, 47, 1.0), (25, 45, 0.999999908209209), (26, 34, 1.0), (26, 39, 0.9999999999999998), (26, 40, 0.9999999999999998), (26, 45, 0.999999999999966), (26, 26, 0.9549927495246616), (26, 38, 0.010403861845358877), (27, 25, 1.0), (27, 31, 0.6468389825389566), (27, 36, 0.9971614174733163), (27, 40, 0.9999999999999998), (27, 30, 0.05044451955272872), (27, 47, 1.0), (27, 27, 0.9999999999999996), (27, 45, 0.9999998701785777), (28, 39, 0.9999999999999998), (28, 49, 0.9999999999999998), (28, 33, 1.0), (28, 41, 0.9999999999999998), (29, 31, 0.8209359104458948), (29, 34, 1.0), (29, 38, 0.9281009351262227), (29, 43, 0.8498741642116105), (29, 49, 0.9999999999999996), (29, 47, 1.0), (29, 39, 0.9999999999999998), (29, 28, 0.9999993222970732), (29, 41, 0.11551869601300621), (30, 41, 0.9999999999999998), (30, 49, 0.9999999999999998), (30, 35, 0.9999999999999998), (30, 43, 0.01898162377447359), (30, 39, 0.9997530881829462), (30, 29, 0.9999997507676889), (31, 41, 0.9999999999999998), (31, 49, 0.9999999999999998), (31, 39, 0.9999999999999944), (31, 45, 0.9999334468941858), (31, 31, 0.014555557793755409), (32, 25, 1.0), (32, 31, 0.744888215342378), (32, 30, 0.036787361394173115), (32, 32, 1.0), (32, 45, 0.988082112544061), (32, 49, 0.9998966496307052), (33, 43, 0.9058474062576779), (33, 45, 0.9999999999999998), (33, 47, 1.0), (33, 30, 0.041284000925058906), (33, 49, 0.9999999999999996), (33, 29, 1.0), (34, 27, 0.9999999999971139), (34, 28, 1.0), (34, 36, 0.9999300005573414), (34, 38, 0.8266774811546963), (34, 39, 0.9999999999999998), (34, 43, 0.05704813508100425), (34, 34, 0.9999999989755859), (35, 28, 1.0), (35, 45, 0.9999999999999998), (35, 34, 1.0), (35, 27, 0.9999106054081309), (35, 29, 1.0), (35, 40, 0.0713219986177925), (36, 30, 0.6865858265816046), (36, 34, 1.0), (36, 38, 0.4496735636182638), (36, 47, 1.0), (36, 49, 0.9999999999999998), (36, 39, 0.9999999999999998), (36, 40, 0.9999999999999998), (37, 25, 1.0), (37, 35, 0.9999999999999991), (37, 45, 0.9999999999999998), (37, 37, 0.9999999999999998), (37, 31, 0.015904515761147223), (37, 30, 0.04168161786604001), (37, 41, 0.9999999999873792), (37, 33, 0.9999999999663458), (37, 39, 0.9241855436455919), (38, 30, 0.8121152200206518), (38, 41, 0.9999999999999998), (38, 49, 0.9999999999999998), (38, 28, 1.0), (38, 43, 0.04674746403109978), (38, 33, 1.0), (38, 39, 0.9999999999999893), (38, 35, 0.9999999999999996), (38, 47, 0.9924503362410377), (39, 35, 0.9999999999999998), (39, 41, 0.9999999999999993), (39, 45, 0.9999999999999998), (39, 27, 0.9999534409634008), (40, 49, 0.9999999999999998), (40, 39, 0.9999999999999998), (40, 33, 1.0), (40, 30, 0.016380946025789905), (40, 40, 0.9999999999999998), (41, 40, 0.9999999999999998), (41, 47, 1.0), (41, 34, 1.0), (41, 43, 0.01703807483683248), (41, 41, 0.929012775168599), (42, 33, 1.0), (42, 38, 0.5606634315629844), (42, 39, 0.9999999999999998), (42, 42, 1.0), (42, 45, 0.9999970605197338), (43, 29, 1.0), (43, 30, 0.9877671482835946), (43, 31, 0.9273082690698561), (43, 34, 1.0), (43, 36, 0.9999956001092477), (43, 40, 0.9999999999999998), (43, 41, 0.9999999999999998), (43, 47, 1.0), (43, 27, 0.9999999998073217), (43, 38, 0.010301408093709575), (44, 39, 0.9999999999999996), (44, 44, 0.9999999999999998), (44, 40, 0.9999999999999964), (45, 25, 1.0), (45, 27, 0.9999999999991778), (45, 29, 1.0), (45, 35, 0.9999999999999998), (45, 34, 1.0), (45, 41, 0.9999999999999998), (45, 33, 0.9999999999953535), (46, 46, 0.9999999999999993), (47, 27, 0.999999999999994), (47, 33, 1.0), (47, 38, 0.9539939836936492), (47, 43, 0.9083182884948969), (47, 25, 1.0), (47, 47, 1.0), (47, 40, 0.9999999999999998), (47, 41, 0.9999999997277251), (48, 2, 0.9999999999999998), (48, 38, 0.3654489352844546), (48, 16, 1.0), (48, 23, 0.9947416920865709), (48, 1, 0.9999999999999427), (48, 19, 0.9970764971254967), (48, 48, 0.9999999999999998), (48, 24, 0.49766155640164816), (49, 31, 0.8892981401687444), (49, 39, 0.9999999999999998), (49, 45, 0.9999999999999998), (49, 33, 1.0), (49, 36, 0.9973951694231811), (49, 29, 1.0), (49, 41, 0.9941250965385813)])"
      ]
     },
     "execution_count": 26,
     "metadata": {},
     "output_type": "execute_result"
    }
   ],
   "source": [
    "g.edges(data='weight')"
   ]
  },
  {
   "cell_type": "code",
   "execution_count": 53,
   "metadata": {},
   "outputs": [
    {
     "name": "stdout",
     "output_type": "stream",
     "text": [
      "4\n"
     ]
    }
   ],
   "source": [
    "fail = 0\n",
    "for i in range(10 **4):\n",
    "    g_init = gen.graph_gen(2,50,0.2,0.02)\n",
    "    if not nx.is_weakly_connected(g_init):\n",
    "        fail += 1\n",
    "print(fail)"
   ]
  },
  {
   "cell_type": "code",
   "execution_count": null,
   "metadata": {},
   "outputs": [],
   "source": []
  }
 ],
 "metadata": {
  "kernelspec": {
   "display_name": "Python 3",
   "language": "python",
   "name": "python3"
  },
  "language_info": {
   "codemirror_mode": {
    "name": "ipython",
    "version": 3
   },
   "file_extension": ".py",
   "mimetype": "text/x-python",
   "name": "python",
   "nbconvert_exporter": "python",
   "pygments_lexer": "ipython3",
   "version": "3.8.2"
  }
 },
 "nbformat": 4,
 "nbformat_minor": 4
}
