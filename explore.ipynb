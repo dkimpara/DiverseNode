{
 "cells": [
  {
   "cell_type": "markdown",
   "metadata": {},
   "source": [
    "## todo: troubleshoot SPL < 1\n",
    "- plot diam/cc/deg dist wrt to std- params"
   ]
  },
  {
   "cell_type": "code",
   "execution_count": 16,
   "metadata": {
    "pycharm": {
     "name": "#%%\n"
    }
   },
   "outputs": [],
   "source": [
    "%matplotlib widget\n",
    "import networkx as nx\n",
    "import numpy as np\n",
    "import matplotlib.pyplot as plt\n",
    "import analysis as analysis\n",
    "from analysis import read_pickle\n",
    "from mpl_toolkits.mplot3d import Axes3D\n",
    "from matplotlib import cm\n",
    "import pandas as pd"
   ]
  },
  {
   "cell_type": "code",
   "execution_count": 13,
   "metadata": {},
   "outputs": [],
   "source": [
    "dfname = 'df_sayama_change_all' #'df_base'\n",
    "#df = read_pickle('df_group_size10-40')\n",
    "df = read_pickle(dfname)\n",
    "df = analysis.data_cleanup(df)"
   ]
  },
  {
   "cell_type": "code",
   "execution_count": 20,
   "metadata": {},
   "outputs": [
    {
     "data": {
      "text/plain": [
       "(199, 19)"
      ]
     },
     "execution_count": 20,
     "metadata": {},
     "output_type": "execute_result"
    }
   ],
   "source": [
    "df.loc[df['comps'] > 10].shape"
   ]
  },
  {
   "cell_type": "code",
   "execution_count": 22,
   "metadata": {},
   "outputs": [
    {
     "data": {
      "text/html": [
       "<div>\n",
       "<style scoped>\n",
       "    .dataframe tbody tr th:only-of-type {\n",
       "        vertical-align: middle;\n",
       "    }\n",
       "\n",
       "    .dataframe tbody tr th {\n",
       "        vertical-align: top;\n",
       "    }\n",
       "\n",
       "    .dataframe thead th {\n",
       "        text-align: right;\n",
       "    }\n",
       "</style>\n",
       "<table border=\"1\" class=\"dataframe\">\n",
       "  <thead>\n",
       "    <tr style=\"text-align: right;\">\n",
       "      <th></th>\n",
       "      <th>degrees</th>\n",
       "      <th>clusterCoeff</th>\n",
       "      <th>reciprocity</th>\n",
       "      <th>center_1</th>\n",
       "      <th>center_2</th>\n",
       "      <th>mean_centers</th>\n",
       "      <th>overall_mean_culture</th>\n",
       "      <th>giantComponent</th>\n",
       "      <th>diam</th>\n",
       "      <th>SPL</th>\n",
       "      <th>CD</th>\n",
       "      <th>c1_init</th>\n",
       "      <th>c2_init</th>\n",
       "      <th>c_avg_init</th>\n",
       "      <th>std_d</th>\n",
       "      <th>std_rs</th>\n",
       "      <th>std_rw</th>\n",
       "      <th>tags</th>\n",
       "      <th>comps</th>\n",
       "    </tr>\n",
       "  </thead>\n",
       "  <tbody>\n",
       "    <tr>\n",
       "      <th>20886</th>\n",
       "      <td>[11, 8, 7, 6, 6, 6, 5, 5, 5, 5, 5, 5, 5, 5, 5,...</td>\n",
       "      <td>0.105506</td>\n",
       "      <td>0.20202</td>\n",
       "      <td>[0.9110496271930804, 0.2827262842864487, 0.666...</td>\n",
       "      <td>[2.356044271990158, -0.42419209767787264, 0.45...</td>\n",
       "      <td>[1.6335469495916193, -0.07073290669571197, 0.5...</td>\n",
       "      <td>[1.6335469495916186, -0.07073290669571197, 0.5...</td>\n",
       "      <td>0.9</td>\n",
       "      <td>11</td>\n",
       "      <td>0.221717</td>\n",
       "      <td>3.031701</td>\n",
       "      <td>[0.9501115564376866, 0.3344459583586259, 0.618...</td>\n",
       "      <td>[2.415936763866369, -0.40316296605150503, 0.45...</td>\n",
       "      <td>[1.683024160152028, -0.03435850384643957, 0.53...</td>\n",
       "      <td>0.5</td>\n",
       "      <td>0.4</td>\n",
       "      <td>0.4</td>\n",
       "      <td>86</td>\n",
       "      <td>5</td>\n",
       "    </tr>\n",
       "  </tbody>\n",
       "</table>\n",
       "</div>"
      ],
      "text/plain": [
       "                                                 degrees  clusterCoeff  \\\n",
       "20886  [11, 8, 7, 6, 6, 6, 5, 5, 5, 5, 5, 5, 5, 5, 5,...      0.105506   \n",
       "\n",
       "       reciprocity                                           center_1  \\\n",
       "20886      0.20202  [0.9110496271930804, 0.2827262842864487, 0.666...   \n",
       "\n",
       "                                                center_2  \\\n",
       "20886  [2.356044271990158, -0.42419209767787264, 0.45...   \n",
       "\n",
       "                                            mean_centers  \\\n",
       "20886  [1.6335469495916193, -0.07073290669571197, 0.5...   \n",
       "\n",
       "                                    overall_mean_culture  giantComponent  \\\n",
       "20886  [1.6335469495916186, -0.07073290669571197, 0.5...             0.9   \n",
       "\n",
       "       diam       SPL        CD  \\\n",
       "20886    11  0.221717  3.031701   \n",
       "\n",
       "                                                 c1_init  \\\n",
       "20886  [0.9501115564376866, 0.3344459583586259, 0.618...   \n",
       "\n",
       "                                                 c2_init  \\\n",
       "20886  [2.415936763866369, -0.40316296605150503, 0.45...   \n",
       "\n",
       "                                              c_avg_init  std_d  std_rs  \\\n",
       "20886  [1.683024160152028, -0.03435850384643957, 0.53...    0.5     0.4   \n",
       "\n",
       "       std_rw  tags  comps  \n",
       "20886     0.4    86      5  "
      ]
     },
     "execution_count": 22,
     "metadata": {},
     "output_type": "execute_result"
    }
   ],
   "source": [
    "df.loc[df['SPL'] == df['SPL'].min()]  \n"
   ]
  },
  {
   "cell_type": "code",
   "execution_count": 25,
   "metadata": {},
   "outputs": [],
   "source": [
    "ddict = read_pickle('sayama_change_all/[0.1, 0.5, 0.4, 0.4]')"
   ]
  },
  {
   "cell_type": "code",
   "execution_count": 27,
   "metadata": {},
   "outputs": [],
   "source": [
    "g = ddict['graphs'][86]"
   ]
  },
  {
   "cell_type": "code",
   "execution_count": 40,
   "metadata": {},
   "outputs": [
    {
     "data": {
      "text/plain": [
       "0.22171717171717173"
      ]
     },
     "execution_count": 40,
     "metadata": {},
     "output_type": "execute_result"
    }
   ],
   "source": [
    "g_undir = nx.DiGraph.to_undirected(g)\n",
    "giant = max(nx.connected_components(g_undir), key=len)\n",
    "nx.average_shortest_path_length(g.subgraph(giant), None)"
   ]
  },
  {
   "cell_type": "code",
   "execution_count": 51,
   "metadata": {},
   "outputs": [
    {
     "data": {
      "text/plain": [
       "0.22171717171717173"
      ]
     },
     "execution_count": 51,
     "metadata": {},
     "output_type": "execute_result"
    }
   ],
   "source": [
    "plt.close('all')\n",
    "q = g.subgraph(giant)\n",
    "for u, v, d in q.edges(data=True):\n",
    "        d['weight'] = 1.0\n"
   ]
  },
  {
   "cell_type": "code",
   "execution_count": 57,
   "metadata": {},
   "outputs": [
    {
     "data": {
      "text/plain": [
       "0.22171717171717173"
      ]
     },
     "execution_count": 57,
     "metadata": {},
     "output_type": "execute_result"
    }
   ],
   "source": [
    "nx.average_shortest_path_length(q, 'weight')\n",
    "import copy\n",
    "qcopy = copy.deepcopy(q)\n",
    "nx.average_shortest_path_length(qcopy, 'weight')\n"
   ]
  },
  {
   "cell_type": "code",
   "execution_count": 65,
   "metadata": {},
   "outputs": [
    {
     "data": {
      "text/plain": [
       "4.335353535353535"
      ]
     },
     "execution_count": 65,
     "metadata": {},
     "output_type": "execute_result"
    }
   ],
   "source": [
    "nx.average_shortest_path_length(nx.DiGraph.to_undirected(g.subgraph(giant)), 'weight')"
   ]
  },
  {
   "cell_type": "code",
   "execution_count": 62,
   "metadata": {},
   "outputs": [
    {
     "name": "stdout",
     "output_type": "stream",
     "text": [
      "0.22171717171717173\n",
      "0.22171717171717173\n",
      "0.22171717171717173\n",
      "inf\n",
      "inf\n"
     ]
    }
   ],
   "source": [
    "print(nx.average_shortest_path_length(qcopy))\n",
    "print(nx.average_shortest_path_length(qcopy, 'weight'))\n",
    "print(nx.average_shortest_path_length(qcopy, 'weight','bellman-ford'))\n",
    "print(nx.average_shortest_path_length(qcopy, 'weight', 'floyd-warshall-numpy'))\n",
    "print(nx.average_shortest_path_length(qcopy, 'weight', 'floyd-warshall'))"
   ]
  },
  {
   "cell_type": "code",
   "execution_count": null,
   "metadata": {},
   "outputs": [],
   "source": []
  },
  {
   "cell_type": "code",
   "execution_count": 59,
   "metadata": {},
   "outputs": [
    {
     "data": {
      "text/plain": [
       "True"
      ]
     },
     "execution_count": 59,
     "metadata": {},
     "output_type": "execute_result"
    }
   ],
   "source": [
    "nx.is_weakly_connected(qcopy)"
   ]
  },
  {
   "cell_type": "code",
   "execution_count": 55,
   "metadata": {},
   "outputs": [
    {
     "data": {
      "application/vnd.jupyter.widget-view+json": {
       "model_id": "6fa73403dfd2469098c95d1206fe387f",
       "version_major": 2,
       "version_minor": 0
      },
      "text/plain": [
       "Canvas(toolbar=Toolbar(toolitems=[('Home', 'Reset original view', 'home', 'home'), ('Back', 'Back to previous …"
      ]
     },
     "metadata": {},
     "output_type": "display_data"
    }
   ],
   "source": [
    "\n",
    "plt.close('all')\n",
    "nx.draw(q)"
   ]
  },
  {
   "cell_type": "code",
   "execution_count": 8,
   "metadata": {},
   "outputs": [
    {
     "data": {
      "text/plain": [
       "20204"
      ]
     },
     "execution_count": 8,
     "metadata": {},
     "output_type": "execute_result"
    }
   ],
   "source": [
    "con = df_full['giantComponent'] > 0.9\n",
    "df_full.loc[con].shape[0]"
   ]
  },
  {
   "cell_type": "code",
   "execution_count": 9,
   "metadata": {},
   "outputs": [],
   "source": [
    "x = []\n",
    "y = []\n",
    "for i in np.linspace(0, 1.0, 21):\n",
    "    cum = 1 - i\n",
    "    con = df_full['giantComponent'] >= cum\n",
    "    x.append(cum)\n",
    "    y.append(df_full.loc[con].shape[0])\n",
    "for i in np.linspace(0,0.15,15):\n",
    "    cum = 1 - i\n",
    "    con = df_full['giantComponent'] >= cum\n",
    "    x.append(cum)\n",
    "    y.append(df_full.loc[con].shape[0])"
   ]
  },
  {
   "cell_type": "code",
   "execution_count": 10,
   "metadata": {},
   "outputs": [
    {
     "data": {
      "application/vnd.jupyter.widget-view+json": {
       "model_id": "95c31b4649cb4dc7b53d3268d6403934",
       "version_major": 2,
       "version_minor": 0
      },
      "text/plain": [
       "Canvas(toolbar=Toolbar(toolitems=[('Home', 'Reset original view', 'home', 'home'), ('Back', 'Back to previous …"
      ]
     },
     "metadata": {},
     "output_type": "display_data"
    }
   ],
   "source": [
    "plt.close('all')\n",
    "plt.scatter(x,y)\n",
    "plt.show()"
   ]
  },
  {
   "cell_type": "code",
   "execution_count": null,
   "metadata": {},
   "outputs": [],
   "source": [
    "#mplot3d doesnt handle sympy floats well\n",
    "stdd = np.asarray(df['std_d'].values, dtype = \"float\")\n",
    "stdrs = np.asarray(df['std_rs'].values, dtype = \"float\")\n",
    "stdrw = np.asarray(df['std_rw'].values, dtype = \"float\")\n",
    "spl = np.asarray(df['SPL'].values, dtype = \"float\")\n",
    "cd = np.asarray(df['CD'].values, dtype = \"float\")\n"
   ]
  },
  {
   "cell_type": "code",
   "execution_count": 66,
   "metadata": {},
   "outputs": [],
   "source": [
    "s = str('[1,2,3]')"
   ]
  },
  {
   "cell_type": "code",
   "execution_count": 67,
   "metadata": {},
   "outputs": [
    {
     "data": {
      "text/plain": [
       "['[', '1', ',', '2', ',', '3', ']']"
      ]
     },
     "execution_count": 67,
     "metadata": {},
     "output_type": "execute_result"
    }
   ],
   "source": [
    "slice = df.loc[df['std_d' == 0.1 and 'std_rs']]"
   ]
  },
  {
   "cell_type": "code",
   "execution_count": null,
   "metadata": {},
   "outputs": [],
   "source": []
  }
 ],
 "metadata": {
  "kernelspec": {
   "display_name": "Python 3",
   "language": "python",
   "name": "python3"
  },
  "language_info": {
   "codemirror_mode": {
    "name": "ipython",
    "version": 3
   },
   "file_extension": ".py",
   "mimetype": "text/x-python",
   "name": "python",
   "nbconvert_exporter": "python",
   "pygments_lexer": "ipython3",
   "version": "3.8.2"
  }
 },
 "nbformat": 4,
 "nbformat_minor": 4
}
